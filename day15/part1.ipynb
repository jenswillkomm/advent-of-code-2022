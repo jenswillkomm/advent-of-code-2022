{
 "cells": [
  {
   "cell_type": "code",
   "execution_count": 1,
   "id": "4c08b1cd",
   "metadata": {},
   "outputs": [],
   "source": [
    "import re\n",
    "from multiprocessing import Pool\n"
   ]
  },
  {
   "cell_type": "code",
   "execution_count": 2,
   "id": "7698669f",
   "metadata": {},
   "outputs": [],
   "source": [
    "input = '''Sensor at x=2, y=18: closest beacon is at x=-2, y=15\n",
    "Sensor at x=9, y=16: closest beacon is at x=10, y=16\n",
    "Sensor at x=13, y=2: closest beacon is at x=15, y=3\n",
    "Sensor at x=12, y=14: closest beacon is at x=10, y=16\n",
    "Sensor at x=10, y=20: closest beacon is at x=10, y=16\n",
    "Sensor at x=14, y=17: closest beacon is at x=10, y=16\n",
    "Sensor at x=8, y=7: closest beacon is at x=2, y=10\n",
    "Sensor at x=2, y=0: closest beacon is at x=2, y=10\n",
    "Sensor at x=0, y=11: closest beacon is at x=2, y=10\n",
    "Sensor at x=20, y=14: closest beacon is at x=25, y=17\n",
    "Sensor at x=17, y=20: closest beacon is at x=21, y=22\n",
    "Sensor at x=16, y=7: closest beacon is at x=15, y=3\n",
    "Sensor at x=14, y=3: closest beacon is at x=15, y=3\n",
    "Sensor at x=20, y=1: closest beacon is at x=15, y=3\n",
    "'''\n",
    "\n",
    "# with open('input') as f:\n",
    "#     input = f.read()\n"
   ]
  },
  {
   "cell_type": "code",
   "execution_count": 3,
   "id": "d5cd5e31",
   "metadata": {},
   "outputs": [],
   "source": [
    "row = 10\n",
    "r = 20\n",
    "# row = 2000000\n",
    "# r = 4000000\n"
   ]
  },
  {
   "cell_type": "code",
   "execution_count": 4,
   "id": "bba92909",
   "metadata": {},
   "outputs": [],
   "source": [
    "sensors = list()\n",
    "beacons = list()\n",
    "radii = list()\n",
    "\n",
    "x_min = x_max = 0\n",
    "\n",
    "searchSpace = set()\n"
   ]
  },
  {
   "cell_type": "code",
   "execution_count": 5,
   "id": "f7d355fe",
   "metadata": {},
   "outputs": [],
   "source": [
    "for line in input.splitlines():\n",
    "    coordinates = re.findall('x=(-?\\d+), y=(-?\\d+)', line)\n",
    "    coordinates = [(int(x), int(y)) for x, y in coordinates]\n",
    "\n",
    "    pos_sensor = coordinates[0]\n",
    "    pos_beacon = coordinates[1]\n",
    "    radius = sum(tuple(map(lambda a, b: abs(a - b), pos_sensor, pos_beacon)))\n",
    "\n",
    "    sensors.append(pos_sensor)\n",
    "    radii.append(radius)\n",
    "    beacons.append(pos_beacon)\n",
    "    \n",
    "    radiusOnY = radius - abs(pos_sensor[1] - row)\n",
    "    currMin = pos_sensor[0] - radiusOnY\n",
    "    currMax = pos_sensor[0] + radiusOnY\n",
    "    x_min = min(x_min, currMin)\n",
    "    x_max = max(x_max, currMax)\n"
   ]
  },
  {
   "cell_type": "code",
   "execution_count": 6,
   "id": "9cdaf90a",
   "metadata": {},
   "outputs": [],
   "source": [
    "def is_beacon_unplaceable(pos):\n",
    "    # position already contains a beacon ('B')\n",
    "    if pos in beacons:\n",
    "        return 0\n",
    "    \n",
    "    # check the range of all sensors ('#')\n",
    "    # TODO: brute-force might be too slow on full input\n",
    "    for pos_sensor, radius in zip(sensors, radii):\n",
    "        distance = sum(tuple(map(lambda a, b: abs(a - b), pos_sensor, pos)))\n",
    "        if distance <= radius:\n",
    "            return 1\n",
    "    \n",
    "    # out of any sensor range, beacon possible ('.')\n",
    "    return 0\n"
   ]
  },
  {
   "cell_type": "code",
   "execution_count": 7,
   "id": "833d9538",
   "metadata": {},
   "outputs": [],
   "source": [
    "with Pool() as p:\n",
    "    noBeaconPositions = sum(p.map(is_beacon_unplaceable, [(x, row) for x in range(x_min, x_max + 1)]))\n"
   ]
  },
  {
   "cell_type": "code",
   "execution_count": 8,
   "id": "413b2861",
   "metadata": {},
   "outputs": [
    {
     "name": "stdout",
     "output_type": "stream",
     "text": [
      "26\n"
     ]
    }
   ],
   "source": [
    "print(noBeaconPositions)\n"
   ]
  }
 ],
 "metadata": {
  "kernelspec": {
   "display_name": "Python 3 (ipykernel)",
   "language": "python",
   "name": "python3"
  },
  "language_info": {
   "codemirror_mode": {
    "name": "ipython",
    "version": 3
   },
   "file_extension": ".py",
   "mimetype": "text/x-python",
   "name": "python",
   "nbconvert_exporter": "python",
   "pygments_lexer": "ipython3",
   "version": "3.10.8"
  }
 },
 "nbformat": 4,
 "nbformat_minor": 5
}
