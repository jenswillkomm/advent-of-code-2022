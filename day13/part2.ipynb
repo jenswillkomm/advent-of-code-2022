{
 "cells": [
  {
   "cell_type": "code",
   "execution_count": 1,
   "id": "2f0298e8",
   "metadata": {},
   "outputs": [],
   "source": [
    "from functools import cmp_to_key\n"
   ]
  },
  {
   "cell_type": "code",
   "execution_count": 2,
   "id": "1f1c650c",
   "metadata": {},
   "outputs": [],
   "source": [
    "input = '''[1,1,3,1,1]\n",
    "[1,1,5,1,1]\n",
    "\n",
    "[[1],[2,3,4]]\n",
    "[[1],4]\n",
    "\n",
    "[9]\n",
    "[[8,7,6]]\n",
    "\n",
    "[[4,4],4,4]\n",
    "[[4,4],4,4,4]\n",
    "\n",
    "[7,7,7,7]\n",
    "[7,7,7]\n",
    "\n",
    "[]\n",
    "[3]\n",
    "\n",
    "[[[]]]\n",
    "[[]]\n",
    "\n",
    "[1,[2,[3,[4,[5,6,7]]]],8,9]\n",
    "[1,[2,[3,[4,[5,6,0]]]],8,9]\n",
    "'''\n",
    "\n",
    "# with open('input') as f:\n",
    "#     input = f.read()\n"
   ]
  },
  {
   "cell_type": "code",
   "execution_count": 3,
   "id": "632b746f",
   "metadata": {},
   "outputs": [],
   "source": [
    "ORDER_INCORRECT = -1\n",
    "ORDER_EQUAL = 1\n",
    "ORDER_CORRECT = 2\n",
    "\n",
    "\n",
    "def check_ii(int1, int2):\n",
    "#     print('check_ii: ' + str(int1) + ' - ' + str(int2))\n",
    "    if int1 < int2:\n",
    "        return ORDER_CORRECT\n",
    "    if int1 == int2:\n",
    "        return ORDER_EQUAL\n",
    "    return ORDER_INCORRECT\n",
    "\n",
    "\n",
    "def check_il(int1, list2):\n",
    "#     print('check_il: ' + str(int1) + ' - ' + str(list2))\n",
    "    return check[(type([]), type(list2))]([int1], list2)\n",
    "\n",
    "\n",
    "def check_li(list1, int2):\n",
    "#     print('check_li: ' + str(list1) + ' - ' + str(int2))\n",
    "    return check[(type(list1), type([int2]))](list1, [int2])\n",
    "\n",
    "\n",
    "def check_ll(list1, list2):\n",
    "#     print('check_il: ' + str(list1) + ' - ' + str(list2))\n",
    "    i = 0\n",
    "    while True:\n",
    "        # check left list\n",
    "        if len(list1) <= i:\n",
    "            # left list ran out of items\n",
    "            return ORDER_CORRECT\n",
    "        # check right list\n",
    "        if len(list2) <= i:\n",
    "            # left list ran out of items\n",
    "            return ORDER_INCORRECT\n",
    "        \n",
    "        result = check[(type(list1[i]), type(list2[i]))](list1[i], list2[i])\n",
    "        if result != ORDER_EQUAL:\n",
    "            return result\n",
    "        \n",
    "        # continue next loop\n",
    "        i += 1\n",
    "\n",
    "\n",
    "check = {\n",
    "    (type(0), type(0)): check_ii,\n",
    "    (type(0), type([])): check_il,\n",
    "    (type([]), type(0)): check_li,\n",
    "    (type([]), type([])): check_ll,\n",
    "}\n"
   ]
  },
  {
   "cell_type": "code",
   "execution_count": 4,
   "id": "4b895a1c",
   "metadata": {},
   "outputs": [],
   "source": [
    "def compare(item1, item2):\n",
    "    result = check[(type(item1), type(item2))](item1, item2)\n",
    "    if result == ORDER_INCORRECT:\n",
    "        return 1\n",
    "    elif result == ORDER_CORRECT:\n",
    "        return -1\n",
    "    return 0\n"
   ]
  },
  {
   "cell_type": "code",
   "execution_count": 5,
   "id": "f9768d17",
   "metadata": {},
   "outputs": [],
   "source": [
    "dividerPackets = ['[[2]]', '[[6]]']\n",
    "packets = dividerPackets[0] + '\\n' + dividerPackets[1] + '\\n'\n"
   ]
  },
  {
   "cell_type": "code",
   "execution_count": 6,
   "id": "2a6a9614",
   "metadata": {
    "scrolled": true
   },
   "outputs": [
    {
     "name": "stdout",
     "output_type": "stream",
     "text": [
      "140\n"
     ]
    }
   ],
   "source": [
    "m = sorted(\n",
    "    [\n",
    "        eval(l) for l\n",
    "        in (input + '\\n' + packets).split()\n",
    "    ], key=cmp_to_key(compare))\n",
    "\n",
    "print((m.index(eval(dividerPackets[0])) + 1) * (m.index(eval(dividerPackets[1])) + 1))\n"
   ]
  }
 ],
 "metadata": {
  "kernelspec": {
   "display_name": "Python 3 (ipykernel)",
   "language": "python",
   "name": "python3"
  },
  "language_info": {
   "codemirror_mode": {
    "name": "ipython",
    "version": 3
   },
   "file_extension": ".py",
   "mimetype": "text/x-python",
   "name": "python",
   "nbconvert_exporter": "python",
   "pygments_lexer": "ipython3",
   "version": "3.10.8"
  }
 },
 "nbformat": 4,
 "nbformat_minor": 5
}
