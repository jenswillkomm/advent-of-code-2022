{
 "cells": [
  {
   "cell_type": "code",
   "execution_count": 1,
   "id": "68ed65ac",
   "metadata": {},
   "outputs": [],
   "source": [
    "import math\n"
   ]
  },
  {
   "cell_type": "code",
   "execution_count": 2,
   "id": "a7b06c37",
   "metadata": {},
   "outputs": [],
   "source": [
    "input = '''1\n",
    "2\n",
    "-3\n",
    "3\n",
    "-2\n",
    "0\n",
    "4\n",
    "'''\n",
    "\n",
    "# with open('input') as f:\n",
    "#     input = f.read()\n"
   ]
  },
  {
   "cell_type": "code",
   "execution_count": 3,
   "id": "077c8853",
   "metadata": {},
   "outputs": [],
   "source": [
    "DECRYPTION_KEY = 811589153\n",
    "\n",
    "sequence = list(map(int, input.split()))\n",
    "positions = list(range(len(sequence)))\n",
    "sequence = list(map(lambda x: x * DECRYPTION_KEY, sequence))\n"
   ]
  },
  {
   "cell_type": "code",
   "execution_count": 4,
   "id": "e3081ecc",
   "metadata": {},
   "outputs": [],
   "source": [
    "def mod(a, b):\n",
    "    return a - (b * math.trunc(a / b))\n",
    "\n",
    "\n",
    "def mix():\n",
    "    for e in range(len(sequence)):\n",
    "        posIndex = positions.index(e)\n",
    "        seqValue = sequence[posIndex]\n",
    "        \n",
    "        targetIndex = posIndex + mod(seqValue, len(sequence) - 1)\n",
    "        \n",
    "        if targetIndex > len(sequence) - 1:\n",
    "            targetIndex -= len(sequence) - 1\n",
    "        if targetIndex < 0:\n",
    "            targetIndex += len(sequence) - 1\n",
    "        \n",
    "        del sequence[posIndex]\n",
    "        sequence.insert(targetIndex, seqValue)\n",
    "        del positions[posIndex]\n",
    "        positions.insert(targetIndex, e)\n"
   ]
  },
  {
   "cell_type": "code",
   "execution_count": 5,
   "id": "70c1de07",
   "metadata": {},
   "outputs": [],
   "source": [
    "for _ in range(10):\n",
    "    mix()\n",
    "\n",
    "base_index = sequence.index(0)\n",
    "base_index1 = (base_index + 1000) % len(sequence)\n",
    "base_index2 = (base_index + 2000) % len(sequence)\n",
    "base_index3 = (base_index + 3000) % len(sequence)\n",
    "\n",
    "grove_coordinates = [\n",
    "    sequence[base_index1],\n",
    "    sequence[base_index2],\n",
    "    sequence[base_index3]\n",
    "]\n"
   ]
  },
  {
   "cell_type": "code",
   "execution_count": 6,
   "id": "0d782478",
   "metadata": {},
   "outputs": [
    {
     "name": "stdout",
     "output_type": "stream",
     "text": [
      "1623178306\n"
     ]
    }
   ],
   "source": [
    "print(sum(grove_coordinates))\n"
   ]
  }
 ],
 "metadata": {
  "kernelspec": {
   "display_name": "Python 3 (ipykernel)",
   "language": "python",
   "name": "python3"
  },
  "language_info": {
   "codemirror_mode": {
    "name": "ipython",
    "version": 3
   },
   "file_extension": ".py",
   "mimetype": "text/x-python",
   "name": "python",
   "nbconvert_exporter": "python",
   "pygments_lexer": "ipython3",
   "version": "3.10.8"
  }
 },
 "nbformat": 4,
 "nbformat_minor": 5
}
