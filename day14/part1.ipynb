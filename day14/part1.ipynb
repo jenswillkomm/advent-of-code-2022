{
 "cells": [
  {
   "cell_type": "code",
   "execution_count": 1,
   "id": "cb1ae844",
   "metadata": {},
   "outputs": [],
   "source": [
    "import re\n",
    "import numpy as np\n"
   ]
  },
  {
   "cell_type": "code",
   "execution_count": 2,
   "id": "e666108d",
   "metadata": {},
   "outputs": [],
   "source": [
    "input = '''498,4 -> 498,6 -> 496,6\n",
    "503,4 -> 502,4 -> 502,9 -> 494,9\n",
    "'''\n",
    "\n",
    "# with open('input') as f:\n",
    "#     input = f.read()\n"
   ]
  },
  {
   "cell_type": "code",
   "execution_count": 3,
   "id": "e182640a",
   "metadata": {},
   "outputs": [],
   "source": [
    "coordinates = re.findall('(\\d+),(\\d+)', input)\n",
    "x_start = min([int(x[0]) for x in coordinates]) - 201\n",
    "x_end = max([int(x[0]) for x in coordinates]) + 202\n",
    "y_start = 0  # source of the sand\n",
    "y_end = max([int(x[1]) for x in coordinates]) + 3\n",
    "pos_sand = (500,0)\n"
   ]
  },
  {
   "cell_type": "code",
   "execution_count": 4,
   "id": "65b20dbb",
   "metadata": {},
   "outputs": [],
   "source": [
    "def tc(coordinate):\n",
    "    # translate coordinate (x,y) to (m,n)\n",
    "    return coordinate[1] - y_start, coordinate[0] - x_start\n"
   ]
  },
  {
   "cell_type": "code",
   "execution_count": 5,
   "id": "b6c80af6",
   "metadata": {},
   "outputs": [],
   "source": [
    "# create cave\n",
    "shape = (y_end - y_start, x_end - x_start)\n",
    "cave = np.full(shape, '.')\n"
   ]
  },
  {
   "cell_type": "code",
   "execution_count": 6,
   "id": "94042e8f",
   "metadata": {},
   "outputs": [],
   "source": [
    "# insert rocks\n",
    "for rock in input.splitlines():\n",
    "    coordinates = re.findall('(\\d+),(\\d+)', rock)\n",
    "    coordinates = [(int(x[0]), int(x[1])) for x in coordinates]\n",
    "    currPoint = coordinates[0]\n",
    "    cave[tc(currPoint)] = '#'\n",
    "    for nextPoint in coordinates[1:]:\n",
    "        while currPoint != nextPoint:\n",
    "            step = (np.sign(nextPoint[0] - currPoint[0]), np.sign(nextPoint[1] - currPoint[1]))\n",
    "            currPoint = (currPoint[0] + step[0], currPoint[1] + step[1])\n",
    "            cave[tc(currPoint)] = '#'\n",
    "\n",
    "# insert source of the sand\n",
    "cave[tc(pos_sand)] = '+'\n"
   ]
  },
  {
   "cell_type": "code",
   "execution_count": 7,
   "id": "8b35293a",
   "metadata": {},
   "outputs": [],
   "source": [
    "OUT_OF_CAVE = (-1, -1)\n",
    "\n",
    "\n",
    "def move_sand(position):\n",
    "    # check if sand falls into the abyss\n",
    "    y_next = position[1] + 1\n",
    "    if y_next >= y_end:\n",
    "        return OUT_OF_CAVE\n",
    "    \n",
    "    # calc next position of the sand\n",
    "    nextPos = [(position[0], y_next), (position[0] - 1, y_next), (position[0] + 1, y_next)]\n",
    "        \n",
    "    # move down\n",
    "    if cave[tc(nextPos[0])] == '.':\n",
    "        return nextPos[0]\n",
    "    \n",
    "    # move down and left\n",
    "    if cave[tc(nextPos[1])] == '.':\n",
    "        return nextPos[1]\n",
    "    \n",
    "    # move down and right\n",
    "    if cave[tc(nextPos[2])] == '.':\n",
    "        return nextPos[2]\n",
    "    \n",
    "    # sand stays in the same position\n",
    "    return position\n",
    "\n",
    "\n",
    "def find_rest():\n",
    "    # calc rest position of the sand\n",
    "    pos_nextSand_prev = pos_sand\n",
    "    \n",
    "    while True:\n",
    "        pos_nextSand = move_sand(pos_nextSand_prev)\n",
    "        # sand falls into the abyss\n",
    "        if pos_nextSand == OUT_OF_CAVE:\n",
    "            return OUT_OF_CAVE\n",
    "        # sand comes to rest (no more movement possible)\n",
    "        if pos_nextSand == pos_nextSand_prev:\n",
    "            return pos_nextSand\n",
    "        \n",
    "        pos_nextSand_prev = pos_nextSand\n"
   ]
  },
  {
   "cell_type": "code",
   "execution_count": 8,
   "id": "c1ce759a",
   "metadata": {},
   "outputs": [],
   "source": [
    "# fill cave with sand\n",
    "sandUnits = 0\n",
    "while True:\n",
    "    pos_nextSand = find_rest()\n",
    "    if pos_nextSand == OUT_OF_CAVE:\n",
    "        break\n",
    "    cave[tc(pos_nextSand)] = 'o'\n",
    "    sandUnits += 1\n"
   ]
  },
  {
   "cell_type": "code",
   "execution_count": 9,
   "id": "db4573f8",
   "metadata": {
    "scrolled": false
   },
   "outputs": [],
   "source": [
    "# np.savetxt('cave.txt', cave, fmt='%c')\n"
   ]
  },
  {
   "cell_type": "code",
   "execution_count": 10,
   "id": "a2d6218c",
   "metadata": {},
   "outputs": [
    {
     "name": "stdout",
     "output_type": "stream",
     "text": [
      "24\n"
     ]
    }
   ],
   "source": [
    "print(sandUnits)\n"
   ]
  }
 ],
 "metadata": {
  "kernelspec": {
   "display_name": "Python 3 (ipykernel)",
   "language": "python",
   "name": "python3"
  },
  "language_info": {
   "codemirror_mode": {
    "name": "ipython",
    "version": 3
   },
   "file_extension": ".py",
   "mimetype": "text/x-python",
   "name": "python",
   "nbconvert_exporter": "python",
   "pygments_lexer": "ipython3",
   "version": "3.10.8"
  }
 },
 "nbformat": 4,
 "nbformat_minor": 5
}
