{
 "cells": [
  {
   "cell_type": "code",
   "execution_count": 1,
   "id": "8ce5713c",
   "metadata": {},
   "outputs": [],
   "source": [
    "import more_itertools\n"
   ]
  },
  {
   "cell_type": "code",
   "execution_count": 2,
   "id": "155ca87a",
   "metadata": {},
   "outputs": [],
   "source": [
    "input = '''mjqjpqmgbljsphdztnvjfqwrcgsmlb\n",
    "'''\n",
    "\n",
    "# with open('input') as f:\n",
    "#     input = f.read()\n"
   ]
  },
  {
   "cell_type": "code",
   "execution_count": 3,
   "id": "d2522a65",
   "metadata": {},
   "outputs": [
    {
     "name": "stdout",
     "output_type": "stream",
     "text": [
      "7\n"
     ]
    }
   ],
   "source": [
    "print(\n",
    "    [\n",
    "        x for x\n",
    "        in enumerate(\n",
    "            [\n",
    "                len(set(s)) for s\n",
    "                in more_itertools.windowed(input, 4)\n",
    "            ]\n",
    "        )\n",
    "        if x[1] == 4\n",
    "    ][0][0] + 4\n",
    ")\n"
   ]
  }
 ],
 "metadata": {
  "kernelspec": {
   "display_name": "Python 3 (ipykernel)",
   "language": "python",
   "name": "python3"
  },
  "language_info": {
   "codemirror_mode": {
    "name": "ipython",
    "version": 3
   },
   "file_extension": ".py",
   "mimetype": "text/x-python",
   "name": "python",
   "nbconvert_exporter": "python",
   "pygments_lexer": "ipython3",
   "version": "3.10.8"
  }
 },
 "nbformat": 4,
 "nbformat_minor": 5
}
