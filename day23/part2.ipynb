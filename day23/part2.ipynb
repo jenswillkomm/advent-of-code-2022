{
 "cells": [
  {
   "cell_type": "code",
   "execution_count": 1,
   "id": "85608a01",
   "metadata": {},
   "outputs": [],
   "source": [
    "import numpy as np\n"
   ]
  },
  {
   "cell_type": "code",
   "execution_count": 2,
   "id": "cf2f1988",
   "metadata": {},
   "outputs": [],
   "source": [
    "input = '''....#..\n",
    "..###.#\n",
    "#...#.#\n",
    ".#...##\n",
    "#.###..\n",
    "##.#.##\n",
    ".#..#..\n",
    "'''\n",
    "\n",
    "# with open('input') as f:\n",
    "#     input = f.read()\n"
   ]
  },
  {
   "cell_type": "code",
   "execution_count": 3,
   "id": "25f7ef56",
   "metadata": {},
   "outputs": [],
   "source": [
    "directions = [\n",
    "    [(0, -1), (1, -1), (-1, -1)],\n",
    "    [(0, 1), (1, 1), (-1, 1)],\n",
    "    [(-1, 0), (-1, -1), (-1, 1)],\n",
    "    [(1, 0), (1, -1), (1, 1)]\n",
    "]\n",
    "adjacentDirections = [p for sublist in directions for p in sublist]\n",
    "nextDirection = 0\n"
   ]
  },
  {
   "cell_type": "code",
   "execution_count": 4,
   "id": "4c0baa85",
   "metadata": {},
   "outputs": [],
   "source": [
    "class Elf:\n",
    "    # provide an individual object reference for each elf\n",
    "    pass\n"
   ]
  },
  {
   "cell_type": "code",
   "execution_count": 5,
   "id": "4fd9e376",
   "metadata": {},
   "outputs": [],
   "source": [
    "ground = dict()\n",
    "\n",
    "for y, line in enumerate(input.splitlines()):\n",
    "    for x, pos in enumerate(list(line)):\n",
    "        if pos == '#':\n",
    "            ground[(x, y)] = Elf()\n",
    "\n",
    "len_ground = len(ground)\n"
   ]
  },
  {
   "cell_type": "code",
   "execution_count": 6,
   "id": "37fb4aab",
   "metadata": {},
   "outputs": [],
   "source": [
    "def vsum(a, b):\n",
    "    return tuple(np.add(a, b))\n",
    "\n",
    "\n",
    "def zsum(a):\n",
    "    return vsum(a[0], a[1])\n"
   ]
  },
  {
   "cell_type": "code",
   "execution_count": 7,
   "id": "8c27eb09",
   "metadata": {},
   "outputs": [],
   "source": [
    "round = 0\n",
    "running = True\n",
    "\n",
    "while running:\n",
    "    proposedSteps = dict()\n",
    "    \n",
    "    # first half of the round\n",
    "    for pos_curr in list(ground.keys()):\n",
    "        # if no other Elves are in one of the eight positions adjacent to themselves\n",
    "        if len(\n",
    "            [\n",
    "                p for p\n",
    "                in set(map(zsum, zip([pos_curr] * len(adjacentDirections), adjacentDirections)))\n",
    "                if p in ground\n",
    "            ]\n",
    "        ) < 1:\n",
    "            # the Elf does not do anything during this round\n",
    "            continue\n",
    "        \n",
    "        # propose a step\n",
    "        for d in range(len(directions)):\n",
    "            adjacentPositions = directions[(round + d) % len(directions)]\n",
    "            pos_next = [\n",
    "                p for p\n",
    "                in set(map(zsum, zip([pos_curr] * len(adjacentPositions), adjacentPositions)))\n",
    "            ]\n",
    "            if len(\n",
    "                [\n",
    "                    ground[pos]\n",
    "                    for pos in pos_next\n",
    "                    if pos in ground\n",
    "                ]\n",
    "            ) < 1:\n",
    "                pos_new = vsum(pos_curr, adjacentPositions[0])\n",
    "                proposedSteps[pos_curr] = pos_new\n",
    "                break\n",
    "    \n",
    "    # second half of the round\n",
    "    for pos_curr in proposedSteps:\n",
    "        pos_new = proposedSteps[pos_curr]\n",
    "        if list(proposedSteps.values()).count(pos_new) > 1:\n",
    "            # TODO: delete all proposed steps with this value\n",
    "            continue\n",
    "        ground[pos_new] = ground[pos_curr]\n",
    "        del ground[pos_curr]\n",
    "        \n",
    "        assert len(ground) == len_ground\n",
    "    \n",
    "    round += 1\n",
    "    running = len(proposedSteps) > 0\n"
   ]
  },
  {
   "cell_type": "code",
   "execution_count": 8,
   "id": "25602580",
   "metadata": {},
   "outputs": [
    {
     "name": "stdout",
     "output_type": "stream",
     "text": [
      "20\n"
     ]
    }
   ],
   "source": [
    "print(round)\n"
   ]
  }
 ],
 "metadata": {
  "kernelspec": {
   "display_name": "Python 3 (ipykernel)",
   "language": "python",
   "name": "python3"
  },
  "language_info": {
   "codemirror_mode": {
    "name": "ipython",
    "version": 3
   },
   "file_extension": ".py",
   "mimetype": "text/x-python",
   "name": "python",
   "nbconvert_exporter": "python",
   "pygments_lexer": "ipython3",
   "version": "3.10.8"
  }
 },
 "nbformat": 4,
 "nbformat_minor": 5
}
