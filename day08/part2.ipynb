{
 "cells": [
  {
   "cell_type": "code",
   "execution_count": 1,
   "id": "7036c340",
   "metadata": {},
   "outputs": [],
   "source": [
    "import numpy as np\n"
   ]
  },
  {
   "cell_type": "code",
   "execution_count": 2,
   "id": "86f0cf45",
   "metadata": {},
   "outputs": [],
   "source": [
    "input = '''30373\n",
    "25512\n",
    "65332\n",
    "33549\n",
    "35390\n",
    "'''\n",
    "\n",
    "# with open('input') as f:\n",
    "#     input = f.read()\n",
    "\n",
    "input = input.splitlines()\n"
   ]
  },
  {
   "cell_type": "code",
   "execution_count": 3,
   "id": "e39422a5",
   "metadata": {},
   "outputs": [],
   "source": [
    "def scenic_score(height, treeList):\n",
    "    nbTrees = 0\n",
    "    for tree in treeList:\n",
    "        nbTrees += 1\n",
    "        if tree >= height:\n",
    "            break\n",
    "    return nbTrees\n"
   ]
  },
  {
   "cell_type": "code",
   "execution_count": 4,
   "id": "f37f6f6d",
   "metadata": {},
   "outputs": [],
   "source": [
    "input = np.array([[int(c) for c in x] for x in input])\n",
    "\n",
    "nbRows, nbCols = input.shape\n",
    "maxScenicScore = 0\n",
    "\n",
    "for currRow in range(nbRows):\n",
    "    for currCol in range(nbCols):\n",
    "        if currRow == 0 or currRow == nbRows - 1 or currCol == 0 or currCol == nbCols - 1:\n",
    "            # the tree's scenic score is 0\n",
    "            continue\n",
    "        \n",
    "        height = input[currRow, currCol]\n",
    "        left = scenic_score(height, reversed(input[currRow, :currCol]))\n",
    "        right = scenic_score(height, input[currRow, currCol + 1:])\n",
    "        top = scenic_score(height, reversed(input[:currRow, currCol]))\n",
    "        bottom = scenic_score(height, input[currRow + 1:, currCol])\n",
    "        \n",
    "        maxScenicScore = max(maxScenicScore, np.prod([left, right, top, bottom]))\n"
   ]
  },
  {
   "cell_type": "code",
   "execution_count": 5,
   "id": "4a43a6f8",
   "metadata": {},
   "outputs": [
    {
     "name": "stdout",
     "output_type": "stream",
     "text": [
      "8\n"
     ]
    }
   ],
   "source": [
    "print(maxScenicScore)\n"
   ]
  }
 ],
 "metadata": {
  "kernelspec": {
   "display_name": "Python 3 (ipykernel)",
   "language": "python",
   "name": "python3"
  },
  "language_info": {
   "codemirror_mode": {
    "name": "ipython",
    "version": 3
   },
   "file_extension": ".py",
   "mimetype": "text/x-python",
   "name": "python",
   "nbconvert_exporter": "python",
   "pygments_lexer": "ipython3",
   "version": "3.10.8"
  }
 },
 "nbformat": 4,
 "nbformat_minor": 5
}
