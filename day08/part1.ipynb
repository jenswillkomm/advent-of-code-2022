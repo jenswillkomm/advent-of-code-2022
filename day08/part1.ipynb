{
 "cells": [
  {
   "cell_type": "code",
   "execution_count": 1,
   "id": "7036c340",
   "metadata": {},
   "outputs": [],
   "source": [
    "import numpy as np\n"
   ]
  },
  {
   "cell_type": "code",
   "execution_count": 2,
   "id": "86f0cf45",
   "metadata": {},
   "outputs": [],
   "source": [
    "input = '''30373\n",
    "25512\n",
    "65332\n",
    "33549\n",
    "35390\n",
    "'''\n",
    "\n",
    "# with open('input') as f:\n",
    "#     input = f.read()\n",
    "\n",
    "input = input.splitlines()\n"
   ]
  },
  {
   "cell_type": "code",
   "execution_count": 3,
   "id": "f37f6f6d",
   "metadata": {},
   "outputs": [],
   "source": [
    "input = np.array([[int(c) for c in x] for x in input])\n",
    "\n",
    "nbRows, nbCols = input.shape\n",
    "nbVisible = 0\n",
    "\n",
    "for currRow in range(nbRows):\n",
    "    for currCol in range(nbCols):\n",
    "        if currRow == 0 or currRow == nbRows - 1 or currCol == 0 or currCol == nbCols - 1:\n",
    "            nbVisible += 1\n",
    "            continue\n",
    "        \n",
    "        left = input[currRow, :currCol].max()\n",
    "        right = input[currRow, currCol + 1:].max()\n",
    "        top = input[:currRow, currCol].max()\n",
    "        bottom = input[currRow + 1:, currCol].max()\n",
    "        \n",
    "        height = input[currRow, currCol]\n",
    "        if min(left, right, top, bottom) < height:\n",
    "            nbVisible += 1\n"
   ]
  },
  {
   "cell_type": "code",
   "execution_count": 4,
   "id": "4a43a6f8",
   "metadata": {},
   "outputs": [
    {
     "name": "stdout",
     "output_type": "stream",
     "text": [
      "21\n"
     ]
    }
   ],
   "source": [
    "print(nbVisible)\n"
   ]
  }
 ],
 "metadata": {
  "kernelspec": {
   "display_name": "Python 3 (ipykernel)",
   "language": "python",
   "name": "python3"
  },
  "language_info": {
   "codemirror_mode": {
    "name": "ipython",
    "version": 3
   },
   "file_extension": ".py",
   "mimetype": "text/x-python",
   "name": "python",
   "nbconvert_exporter": "python",
   "pygments_lexer": "ipython3",
   "version": "3.10.8"
  }
 },
 "nbformat": 4,
 "nbformat_minor": 5
}
