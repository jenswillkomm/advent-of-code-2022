{
 "cells": [
  {
   "cell_type": "code",
   "execution_count": 1,
   "id": "fda3fda0",
   "metadata": {},
   "outputs": [],
   "source": [
    "import re\n"
   ]
  },
  {
   "cell_type": "code",
   "execution_count": 2,
   "id": "a5bad45c",
   "metadata": {},
   "outputs": [],
   "source": [
    "input = '''    [D]    \n",
    "[N] [C]    \n",
    "[Z] [M] [P]\n",
    " 1   2   3 \n",
    "\n",
    "move 1 from 2 to 1\n",
    "move 3 from 1 to 3\n",
    "move 2 from 2 to 1\n",
    "move 1 from 1 to 2\n",
    "'''\n",
    "\n",
    "# with open('input') as f:\n",
    "#     input = f.read()\n"
   ]
  },
  {
   "cell_type": "code",
   "execution_count": 3,
   "id": "3038b099",
   "metadata": {},
   "outputs": [],
   "source": [
    "stacks = list()\n",
    "lineBuffer = list()\n",
    "\n",
    "for line in input.split('\\n\\n')[0].splitlines():\n",
    "    if line[:11] == ' 1   2   3 ':\n",
    "        break\n",
    "    lineBuffer.append(re.findall('(\\[\\w\\]|   ) ?', line))\n",
    "\n",
    "for level in reversed(lineBuffer):\n",
    "    for i in range(len(level)):\n",
    "        while len(stacks) <= i:\n",
    "            stacks.append(list())\n",
    "        crate = re.search('\\[(\\w)\\]', level[i])\n",
    "        if crate:\n",
    "            stacks[i].append(crate[1])\n"
   ]
  },
  {
   "cell_type": "code",
   "execution_count": 4,
   "id": "51aae031",
   "metadata": {},
   "outputs": [
    {
     "data": {
      "text/plain": [
       "[['   ', '[D]', '   '], ['[N]', '[C]', '   '], ['[Z]', '[M]', '[P]']]"
      ]
     },
     "execution_count": 4,
     "metadata": {},
     "output_type": "execute_result"
    }
   ],
   "source": [
    "lineBuffer"
   ]
  },
  {
   "cell_type": "code",
   "execution_count": 5,
   "id": "44fc9807",
   "metadata": {},
   "outputs": [],
   "source": [
    "for line in input.split('\\n\\n')[1].splitlines():\n",
    "    command = re.match('move (\\w+) from (\\w+) to (\\w+)', line)\n",
    "    loops = int(command[1])\n",
    "    source = int(command[2]) - 1\n",
    "    target = int(command[3]) - 1\n",
    "    for _ in range(loops):\n",
    "        stacks[target].append(stacks[source].pop())\n"
   ]
  },
  {
   "cell_type": "code",
   "execution_count": 6,
   "id": "7ec6d655",
   "metadata": {},
   "outputs": [
    {
     "name": "stdout",
     "output_type": "stream",
     "text": [
      "CMZ\n"
     ]
    }
   ],
   "source": [
    "print(\n",
    "    ''.join(\n",
    "        [\n",
    "            stack[-1]\n",
    "            for stack in stacks\n",
    "        ]\n",
    "    )\n",
    ")\n"
   ]
  }
 ],
 "metadata": {
  "kernelspec": {
   "display_name": "Python 3 (ipykernel)",
   "language": "python",
   "name": "python3"
  },
  "language_info": {
   "codemirror_mode": {
    "name": "ipython",
    "version": 3
   },
   "file_extension": ".py",
   "mimetype": "text/x-python",
   "name": "python",
   "nbconvert_exporter": "python",
   "pygments_lexer": "ipython3",
   "version": "3.10.8"
  }
 },
 "nbformat": 4,
 "nbformat_minor": 5
}
