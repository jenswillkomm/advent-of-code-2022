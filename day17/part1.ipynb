{
 "cells": [
  {
   "cell_type": "code",
   "execution_count": 1,
   "id": "ac17b8a2",
   "metadata": {},
   "outputs": [],
   "source": [
    "import numpy as np\n"
   ]
  },
  {
   "cell_type": "code",
   "execution_count": 2,
   "id": "6bdd2d70",
   "metadata": {},
   "outputs": [],
   "source": [
    "input = '''>>><<><>><<<>><>>><<<>>><<<><<<>><>><<>>\n",
    "'''\n",
    "\n",
    "# with open('input') as f:\n",
    "#     input = f.read()\n",
    "\n",
    "input = input.splitlines()[0]\n"
   ]
  },
  {
   "cell_type": "code",
   "execution_count": 3,
   "id": "d6bb322a",
   "metadata": {},
   "outputs": [],
   "source": [
    "jet = list(input)\n",
    "\n",
    "NB_JETS = len(jet)\n"
   ]
  },
  {
   "cell_type": "code",
   "execution_count": 4,
   "id": "ea7bf062",
   "metadata": {},
   "outputs": [],
   "source": [
    "nextJet = 0\n",
    "def get_next_jet():\n",
    "    global nextJet\n",
    "    result = jet[nextJet]\n",
    "    nextJet += 1\n",
    "    nextJet %= NB_JETS\n",
    "    \n",
    "    if result == '>':\n",
    "        return 1\n",
    "    elif result == '<':\n",
    "        return -1\n",
    "    else:\n",
    "        assert False\n",
    "    return 0\n"
   ]
  },
  {
   "cell_type": "code",
   "execution_count": 5,
   "id": "68c6c9ec",
   "metadata": {},
   "outputs": [],
   "source": [
    "rockShapes = np.full((5, 4, 4), 0)  # 5 rock types with 4x4 each\n",
    "rockShapes[0] = np.array([  # rock shapes are defined upside-down\n",
    "    [1, 1, 1, 1],\n",
    "    [0, 0, 0, 0],\n",
    "    [0, 0, 0, 0],\n",
    "    [0, 0, 0, 0]\n",
    "])\n",
    "rockShapes[1] = np.array([\n",
    "    [0, 1, 0, 0],\n",
    "    [1, 1, 1, 0],\n",
    "    [0, 1, 0, 0],\n",
    "    [0, 0, 0, 0]\n",
    "])\n",
    "rockShapes[2] = np.array([\n",
    "    [1, 1, 1, 0],\n",
    "    [0, 0, 1, 0],\n",
    "    [0, 0, 1, 0],\n",
    "    [0, 0, 0, 0]\n",
    "])\n",
    "rockShapes[3] = np.array([\n",
    "    [1, 0, 0, 0],\n",
    "    [1, 0, 0, 0],\n",
    "    [1, 0, 0, 0],\n",
    "    [1, 0, 0, 0]\n",
    "])\n",
    "rockShapes[4] = np.array([\n",
    "    [1, 1, 0, 0],\n",
    "    [1, 1, 0, 0],\n",
    "    [0, 0, 0, 0],\n",
    "    [0, 0, 0, 0]\n",
    "])\n",
    "\n",
    "nextShape = 0\n",
    "NB_SHAPES = len(rockShapes)\n",
    "\n",
    "\n",
    "def get_next_shape():\n",
    "    global nextShape\n",
    "    result = rockShapes[nextShape]\n",
    "    nextShape += 1\n",
    "    nextShape %= NB_SHAPES\n",
    "    return result\n"
   ]
  },
  {
   "cell_type": "code",
   "execution_count": 6,
   "id": "6e4bd536",
   "metadata": {},
   "outputs": [],
   "source": [
    "CAVE_WIDTH = 7\n",
    "floor = [1] * CAVE_WIDTH\n",
    "level = [0] * CAVE_WIDTH\n",
    "\n",
    "cave = np.array(floor)\n",
    "cave.resize(2, CAVE_WIDTH)\n",
    "\n",
    "heightRocks = 0  # floor is level 0\n"
   ]
  },
  {
   "cell_type": "code",
   "execution_count": 7,
   "id": "2672302b",
   "metadata": {},
   "outputs": [],
   "source": [
    "def is_position_valid(cave, rock, col, row):\n",
    "    cavePart = cave[row:row + 4, col:col + 4]\n",
    "    while cavePart.shape[1] < 4:\n",
    "        cavePart = np.column_stack([cavePart, np.array([1] * 4)])\n",
    "    return (cavePart + rock).max() <= 1\n",
    "\n",
    "\n",
    "def place_rock(cave, rock, col, row):\n",
    "    cavePart = cave[row:row + 4,col:col + 4]\n",
    "    cave[row:row + 4, col:col + 4] = cavePart | rock[:cavePart.shape[0], :cavePart.shape[1]]\n"
   ]
  },
  {
   "cell_type": "code",
   "execution_count": 8,
   "id": "74ebb00d",
   "metadata": {},
   "outputs": [],
   "source": [
    "NB_FALLINGROCKS = 2022\n",
    "\n",
    "\n",
    "for nbRocks in range(NB_FALLINGROCKS):\n",
    "    # extend cave height\n",
    "    if cave.shape[0] < heightRocks + 3 + 4 + 2:\n",
    "        cave.resize(heightRocks + 3 + 4 + 2, CAVE_WIDTH, refcheck=False)\n",
    "    \n",
    "    currX = 2  # two units away from the left wall\n",
    "    currY = heightRocks + 4  # three units above the highest rock in the cave\n",
    "    currRock = get_next_shape()\n",
    "#     print ('Rock created at position: ' + str((currX, currY)))\n",
    "    \n",
    "    while True:\n",
    "        # jet pushes rock\n",
    "        nextX = currX + get_next_jet()\n",
    "        \n",
    "        if is_position_valid(cave, currRock, nextX, currY):\n",
    "            currX = nextX\n",
    "#             print ('New rock position: ' + str((currX, currY)))\n",
    "        \n",
    "        # fall down one unit\n",
    "        nextY = currY - 1\n",
    "        \n",
    "        if is_position_valid(cave, currRock, currX, nextY):\n",
    "            currY = nextY\n",
    "#             print ('New rock position: ' + str((currX, currY)))\n",
    "            if currY < 0:\n",
    "                break\n",
    "            else:\n",
    "                continue\n",
    "        else:\n",
    "#             print ('Rock rests at position: ' + str((currX, currY)))\n",
    "            break\n",
    "    \n",
    "    place_rock(cave, currRock, currX, currY)\n",
    "    \n",
    "    # recalculate cave height\n",
    "    h = cave.shape[0] - 1\n",
    "    while cave[h,:].max() < 1:\n",
    "        h -= 1\n",
    "    heightRocks = h\n",
    "    \n",
    "    nbRocks += 1\n"
   ]
  },
  {
   "cell_type": "code",
   "execution_count": 9,
   "id": "902ce5a2",
   "metadata": {},
   "outputs": [
    {
     "name": "stdout",
     "output_type": "stream",
     "text": [
      "3068\n"
     ]
    }
   ],
   "source": [
    "print(heightRocks)\n"
   ]
  }
 ],
 "metadata": {
  "kernelspec": {
   "display_name": "Python 3 (ipykernel)",
   "language": "python",
   "name": "python3"
  },
  "language_info": {
   "codemirror_mode": {
    "name": "ipython",
    "version": 3
   },
   "file_extension": ".py",
   "mimetype": "text/x-python",
   "name": "python",
   "nbconvert_exporter": "python",
   "pygments_lexer": "ipython3",
   "version": "3.10.8"
  }
 },
 "nbformat": 4,
 "nbformat_minor": 5
}
