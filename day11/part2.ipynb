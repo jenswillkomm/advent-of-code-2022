{
 "cells": [
  {
   "cell_type": "code",
   "execution_count": 1,
   "id": "ba68fd38",
   "metadata": {},
   "outputs": [],
   "source": [
    "import re\n",
    "import math\n",
    "from numpy import prod\n"
   ]
  },
  {
   "cell_type": "code",
   "execution_count": 2,
   "id": "8616f222",
   "metadata": {},
   "outputs": [],
   "source": [
    "input = '''Monkey 0:\n",
    "  Starting items: 79, 98\n",
    "  Operation: new = old * 19\n",
    "  Test: divisible by 23\n",
    "    If true: throw to monkey 2\n",
    "    If false: throw to monkey 3\n",
    "\n",
    "Monkey 1:\n",
    "  Starting items: 54, 65, 75, 74\n",
    "  Operation: new = old + 6\n",
    "  Test: divisible by 19\n",
    "    If true: throw to monkey 2\n",
    "    If false: throw to monkey 0\n",
    "\n",
    "Monkey 2:\n",
    "  Starting items: 79, 60, 97\n",
    "  Operation: new = old * old\n",
    "  Test: divisible by 13\n",
    "    If true: throw to monkey 1\n",
    "    If false: throw to monkey 3\n",
    "\n",
    "Monkey 3:\n",
    "  Starting items: 74\n",
    "  Operation: new = old + 3\n",
    "  Test: divisible by 17\n",
    "    If true: throw to monkey 0\n",
    "    If false: throw to monkey 1\n",
    "'''\n",
    "\n",
    "# with open('input') as f:\n",
    "#     input = f.read()\n"
   ]
  },
  {
   "cell_type": "code",
   "execution_count": 3,
   "id": "1cbca774",
   "metadata": {},
   "outputs": [],
   "source": [
    "class Monkey:\n",
    "    def __init__(self):\n",
    "        self.name = ''\n",
    "        self.items = list()\n",
    "        self.operation = ''\n",
    "        self.test = -1\n",
    "        self.test_true = -1\n",
    "        self.test_false = -1\n",
    "        self.inspected = 0\n",
    "        self.lcm = 1\n",
    "    \n",
    "    def parse(self, string):\n",
    "        parameters = string.split('\\n')\n",
    "        self.name = re.findall('(Monkey \\d+):', parameters.pop(0))[0]\n",
    "        itemList = re.findall('Starting items: (.*)', parameters.pop(0))[0]\n",
    "        self.items = list(map(int, itemList.split(', ')))\n",
    "        self.operation = re.findall('Operation: new = (.*)', parameters.pop(0))[0]\n",
    "        self.test = int(re.findall('Test: divisible by (\\d+)', parameters.pop(0))[0])\n",
    "        self.test_true = int(re.findall('If true: throw to monkey (\\d+)', parameters.pop(0))[0])\n",
    "        self.test_false = int(re.findall('If false: throw to monkey (\\d+)', parameters.pop(0))[0])\n",
    "    \n",
    "    def item_left(self):\n",
    "        if len(self.items) > 0:\n",
    "            return True\n",
    "        return False\n",
    "    \n",
    "    def throw_item(self):\n",
    "        self.inspected += 1\n",
    "        \n",
    "        old = self.items.pop(0)  # take first item\n",
    "        new = eval(self.operation)\n",
    "        item = new % self.lcm\n",
    "        \n",
    "        destination = -1\n",
    "        if item % self.test == 0:\n",
    "            destination = self.test_true\n",
    "        else:\n",
    "            destination = self.test_false\n",
    "        return item, destination\n"
   ]
  },
  {
   "cell_type": "code",
   "execution_count": 4,
   "id": "39343597",
   "metadata": {},
   "outputs": [],
   "source": [
    "monkeys = list()\n",
    "\n",
    "for description in input.split('\\n\\n'):\n",
    "    m = Monkey()\n",
    "    m.parse(description)\n",
    "    monkeys.append(m)\n",
    "\n",
    "lcm_divisors = math.lcm(prod([monkey.test for monkey in monkeys]))\n",
    "for m in monkeys:\n",
    "    m.lcm = lcm_divisors\n",
    "\n",
    "for r in range(10000):\n",
    "    for i in range(len(monkeys)):\n",
    "        while monkeys[i].item_left():\n",
    "            item, destination = monkeys[i].throw_item()\n",
    "            monkeys[destination].items.append(item)\n",
    "#             print('Monkey '+ str(i) +' throws item '+ str(item) +' to monkey '+ str(destination))\n"
   ]
  },
  {
   "cell_type": "code",
   "execution_count": 5,
   "id": "9fad4448",
   "metadata": {},
   "outputs": [
    {
     "name": "stdout",
     "output_type": "stream",
     "text": [
      "2713310158\n"
     ]
    }
   ],
   "source": [
    "print(\n",
    "    prod(sorted([monkey.inspected for monkey in monkeys], reverse=True)[:2])\n",
    ")\n"
   ]
  }
 ],
 "metadata": {
  "kernelspec": {
   "display_name": "Python 3 (ipykernel)",
   "language": "python",
   "name": "python3"
  },
  "language_info": {
   "codemirror_mode": {
    "name": "ipython",
    "version": 3
   },
   "file_extension": ".py",
   "mimetype": "text/x-python",
   "name": "python",
   "nbconvert_exporter": "python",
   "pygments_lexer": "ipython3",
   "version": "3.10.8"
  }
 },
 "nbformat": 4,
 "nbformat_minor": 5
}
