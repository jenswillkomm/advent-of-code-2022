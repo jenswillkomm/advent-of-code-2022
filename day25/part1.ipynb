{
 "cells": [
  {
   "cell_type": "code",
   "execution_count": 1,
   "id": "1f3f2038",
   "metadata": {},
   "outputs": [],
   "source": [
    "input = '''1=-0-2\n",
    "12111\n",
    "2=0=\n",
    "21\n",
    "2=01\n",
    "111\n",
    "20012\n",
    "112\n",
    "1=-1=\n",
    "1-12\n",
    "12\n",
    "1=\n",
    "122\n",
    "'''\n",
    "\n",
    "# with open('input') as f:\n",
    "#     input = f.read()\n"
   ]
  },
  {
   "cell_type": "code",
   "execution_count": 2,
   "id": "d9fe9770",
   "metadata": {},
   "outputs": [],
   "source": [
    "SNAFU_NUMBERS = {'2': 2, '1': 1, '0': 0, '-': -1, '=': -2}\n"
   ]
  },
  {
   "cell_type": "code",
   "execution_count": 3,
   "id": "8b7b50c4",
   "metadata": {},
   "outputs": [],
   "source": [
    "def SNAFU2Dec(number):\n",
    "    return sum(\n",
    "        [\n",
    "            SNAFU_NUMBERS[z] * 5 ** p for z, p\n",
    "            in zip(list(number), reversed(range(len(list(number)))))\n",
    "        ]\n",
    "    )\n",
    "\n",
    "\n",
    "def Dec2SNAFU(number):\n",
    "    if number <= 0:\n",
    "        return ''\n",
    "    return Dec2SNAFU((number + 2) // 5) + [\n",
    "        k for k, v in SNAFU_NUMBERS.items()\n",
    "        if v == ((number % 5) % 3 - (((number % 5) // 3) * 2))\n",
    "    ][0]\n"
   ]
  },
  {
   "cell_type": "code",
   "execution_count": 4,
   "id": "1961a0c7",
   "metadata": {},
   "outputs": [
    {
     "name": "stdout",
     "output_type": "stream",
     "text": [
      "2=-1=0\n"
     ]
    }
   ],
   "source": [
    "print(\n",
    "    Dec2SNAFU(sum([SNAFU2Dec(fuelRequirement) for fuelRequirement in input.splitlines()]))\n",
    ")\n"
   ]
  }
 ],
 "metadata": {
  "kernelspec": {
   "display_name": "Python 3 (ipykernel)",
   "language": "python",
   "name": "python3"
  },
  "language_info": {
   "codemirror_mode": {
    "name": "ipython",
    "version": 3
   },
   "file_extension": ".py",
   "mimetype": "text/x-python",
   "name": "python",
   "nbconvert_exporter": "python",
   "pygments_lexer": "ipython3",
   "version": "3.10.8"
  }
 },
 "nbformat": 4,
 "nbformat_minor": 5
}
