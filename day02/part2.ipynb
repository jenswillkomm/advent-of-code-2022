{
 "cells": [
  {
   "cell_type": "code",
   "execution_count": 1,
   "id": "746a3e14",
   "metadata": {},
   "outputs": [],
   "source": [
    "input = '''A Y\n",
    "B X\n",
    "C Z\n",
    "'''\n",
    "\n",
    "# with open('input') as f:\n",
    "#     input = f.read()\n",
    "\n",
    "input = input.splitlines()\n"
   ]
  },
  {
   "cell_type": "code",
   "execution_count": 2,
   "id": "9bf00593",
   "metadata": {},
   "outputs": [],
   "source": [
    "#1: rock\n",
    "#2: paper\n",
    "#3: scissors\n",
    "\n",
    "shapeScores = {'A': 1, 'B': 2, 'C': 3, 'X': 1, 'Y': 2, 'Z': 3}\n",
    "\n",
    "winScores = [\n",
    "    [3, 0, 6],\n",
    "    [6, 3, 0],\n",
    "    [0, 6, 3]\n",
    "]\n",
    "\n",
    "myShape = {'X': [3, 1, 2], 'Y': [1, 2, 3], 'Z': [2, 3, 1]}\n"
   ]
  },
  {
   "cell_type": "code",
   "execution_count": 3,
   "id": "930e7668",
   "metadata": {},
   "outputs": [
    {
     "name": "stdout",
     "output_type": "stream",
     "text": [
      "12\n"
     ]
    }
   ],
   "source": [
    "print(\n",
    "    sum(\n",
    "        [\n",
    "            winScores[myShape[round[2]][shapeScores[round[0]] - 1] - 1][shapeScores[round[0]] - 1] + myShape[round[2]][shapeScores[round[0]] - 1]\n",
    "            for round in input\n",
    "        ]\n",
    "    )\n",
    ")\n"
   ]
  }
 ],
 "metadata": {
  "kernelspec": {
   "display_name": "Python 3 (ipykernel)",
   "language": "python",
   "name": "python3"
  },
  "language_info": {
   "codemirror_mode": {
    "name": "ipython",
    "version": 3
   },
   "file_extension": ".py",
   "mimetype": "text/x-python",
   "name": "python",
   "nbconvert_exporter": "python",
   "pygments_lexer": "ipython3",
   "version": "3.10.8"
  }
 },
 "nbformat": 4,
 "nbformat_minor": 5
}
