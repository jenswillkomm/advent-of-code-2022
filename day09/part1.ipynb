{
 "cells": [
  {
   "cell_type": "code",
   "execution_count": 1,
   "id": "8b62a632",
   "metadata": {},
   "outputs": [],
   "source": [
    "import numpy as np\n"
   ]
  },
  {
   "cell_type": "code",
   "execution_count": 2,
   "id": "d27b965c",
   "metadata": {},
   "outputs": [],
   "source": [
    "input = '''R 4\n",
    "U 4\n",
    "L 3\n",
    "D 1\n",
    "R 4\n",
    "D 1\n",
    "L 5\n",
    "R 2\n",
    "'''\n",
    "\n",
    "# with open('input') as f:\n",
    "#     input = f.read()\n",
    "\n",
    "input = input.splitlines()\n"
   ]
  },
  {
   "cell_type": "code",
   "execution_count": 3,
   "id": "f929abc7",
   "metadata": {},
   "outputs": [],
   "source": [
    "def move_tail(H, T):\n",
    "    newT = T\n",
    "    diff = (H[0] - T[0], H[1] - T[1])\n",
    "    if abs(diff[0]) > 1 or abs(diff[1]) > 1:\n",
    "        # move tail\n",
    "        newT = (newT[0] + np.sign(diff[0]), newT[1] + np.sign(diff[1]))\n",
    "    return newT\n"
   ]
  },
  {
   "cell_type": "code",
   "execution_count": 4,
   "id": "7a367918",
   "metadata": {},
   "outputs": [],
   "source": [
    "s = (0, 0)\n",
    "H = s\n",
    "T = s\n",
    "\n",
    "tailsPositions = set()\n",
    "tailsPositions.add(T)\n",
    "\n",
    "for motion in input:\n",
    "    direction, steps = motion.split()\n",
    "    steps = int(steps)\n",
    "    while steps > 0:\n",
    "        # move H\n",
    "        if direction == 'R':\n",
    "            H = (H[0], H[1] + 1)\n",
    "        elif direction == 'L':\n",
    "            H = (H[0], H[1] - 1)\n",
    "        elif direction == 'U':\n",
    "            H = (H[0] + 1, H[1])\n",
    "        elif direction == 'D':\n",
    "            H = (H[0] - 1, H[1])\n",
    "        \n",
    "        # move T\n",
    "        T = move_tail(H, T)\n",
    "        tailsPositions.add(T)\n",
    "        \n",
    "        steps -= 1\n"
   ]
  },
  {
   "cell_type": "code",
   "execution_count": 5,
   "id": "36a48aeb",
   "metadata": {},
   "outputs": [
    {
     "name": "stdout",
     "output_type": "stream",
     "text": [
      "13\n"
     ]
    }
   ],
   "source": [
    "print(len(tailsPositions))\n"
   ]
  }
 ],
 "metadata": {
  "kernelspec": {
   "display_name": "Python 3 (ipykernel)",
   "language": "python",
   "name": "python3"
  },
  "language_info": {
   "codemirror_mode": {
    "name": "ipython",
    "version": 3
   },
   "file_extension": ".py",
   "mimetype": "text/x-python",
   "name": "python",
   "nbconvert_exporter": "python",
   "pygments_lexer": "ipython3",
   "version": "3.10.8"
  }
 },
 "nbformat": 4,
 "nbformat_minor": 5
}
