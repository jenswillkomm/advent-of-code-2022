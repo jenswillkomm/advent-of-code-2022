{
 "cells": [
  {
   "cell_type": "code",
   "execution_count": 1,
   "id": "8b62a632",
   "metadata": {},
   "outputs": [],
   "source": [
    "import numpy as np\n"
   ]
  },
  {
   "cell_type": "code",
   "execution_count": 2,
   "id": "d27b965c",
   "metadata": {},
   "outputs": [],
   "source": [
    "input = '''R 4\n",
    "U 4\n",
    "L 3\n",
    "D 1\n",
    "R 4\n",
    "D 1\n",
    "L 5\n",
    "R 2\n",
    "'''\n",
    "\n",
    "input = '''R 5\n",
    "U 8\n",
    "L 8\n",
    "D 3\n",
    "R 17\n",
    "D 10\n",
    "L 25\n",
    "U 20\n",
    "'''\n",
    "\n",
    "# with open('input') as f:\n",
    "#     input = f.read()\n",
    "\n",
    "input = input.splitlines()\n"
   ]
  },
  {
   "cell_type": "code",
   "execution_count": 3,
   "id": "f929abc7",
   "metadata": {},
   "outputs": [],
   "source": [
    "def move_tail(H, T):\n",
    "    newT = T\n",
    "    diff = (H[0] - T[0], H[1] - T[1])\n",
    "    if abs(diff[0]) > 1 or abs(diff[1]) > 1:\n",
    "        # move tail\n",
    "        newT = (newT[0] + np.sign(diff[0]), newT[1] + np.sign(diff[1]))\n",
    "    return newT\n"
   ]
  },
  {
   "cell_type": "code",
   "execution_count": 4,
   "id": "a46d1e84",
   "metadata": {},
   "outputs": [],
   "source": [
    "K = [(0, 0) for _ in range(10)]  # 1 head + 9 tails\n",
    "\n",
    "K9Positions = set()\n",
    "K9Positions.add(K[9])\n",
    "\n",
    "for motion in input:\n",
    "    direction, steps = motion.split()\n",
    "    steps = int(steps)\n",
    "    while steps > 0:\n",
    "        # move H\n",
    "        if direction == 'R':\n",
    "            K[0] = (K[0][0], K[0][1] + 1)\n",
    "        elif direction == 'L':\n",
    "            K[0] = (K[0][0], K[0][1] - 1)\n",
    "        elif direction == 'U':\n",
    "            K[0] = (K[0][0] + 1, K[0][1])\n",
    "        elif direction == 'D':\n",
    "            K[0] = (K[0][0] - 1, K[0][1])\n",
    "        \n",
    "        # move Ts\n",
    "        for i in range(1, 10):  # in the correct order\n",
    "            K[i] = move_tail(K[i - 1], K[i])\n",
    "        K9Positions.add(K[9])\n",
    "        \n",
    "        steps -= 1\n"
   ]
  },
  {
   "cell_type": "code",
   "execution_count": 5,
   "id": "aceec30a",
   "metadata": {},
   "outputs": [
    {
     "name": "stdout",
     "output_type": "stream",
     "text": [
      "36\n"
     ]
    }
   ],
   "source": [
    "print(len(K9Positions))\n"
   ]
  }
 ],
 "metadata": {
  "kernelspec": {
   "display_name": "Python 3 (ipykernel)",
   "language": "python",
   "name": "python3"
  },
  "language_info": {
   "codemirror_mode": {
    "name": "ipython",
    "version": 3
   },
   "file_extension": ".py",
   "mimetype": "text/x-python",
   "name": "python",
   "nbconvert_exporter": "python",
   "pygments_lexer": "ipython3",
   "version": "3.10.8"
  }
 },
 "nbformat": 4,
 "nbformat_minor": 5
}
