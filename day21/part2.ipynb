{
 "cells": [
  {
   "cell_type": "code",
   "execution_count": 1,
   "id": "2c260ed1",
   "metadata": {},
   "outputs": [],
   "source": [
    "import re\n",
    "import math\n",
    "from operator import lt, gt\n"
   ]
  },
  {
   "cell_type": "code",
   "execution_count": 2,
   "id": "6fcdbe59",
   "metadata": {},
   "outputs": [],
   "source": [
    "input = '''root: pppw + sjmn\n",
    "dbpl: 5\n",
    "cczh: sllz + lgvd\n",
    "zczc: 2\n",
    "ptdq: humn - dvpt\n",
    "dvpt: 3\n",
    "lfqf: 4\n",
    "humn: 5\n",
    "ljgn: 2\n",
    "sjmn: drzm * dbpl\n",
    "sllz: 4\n",
    "pppw: cczh / lfqf\n",
    "lgvd: ljgn * ptdq\n",
    "drzm: hmdt - zczc\n",
    "hmdt: 32\n",
    "'''\n",
    "\n",
    "# with open('input') as f:\n",
    "#     input = f.read()\n"
   ]
  },
  {
   "cell_type": "code",
   "execution_count": 3,
   "id": "abf477c8",
   "metadata": {},
   "outputs": [],
   "source": [
    "monkeys = dict()\n",
    "value_humn = 0\n",
    "\n",
    "for line in input.splitlines():\n",
    "    m = re.search('(\\w+): (.*)', line)\n",
    "    if m[1] == 'humn':\n",
    "        value_humn = int(m[2])\n",
    "    monkeys[m[1]] = m[2]\n"
   ]
  },
  {
   "cell_type": "code",
   "execution_count": 4,
   "id": "f2735db3",
   "metadata": {},
   "outputs": [],
   "source": [
    "def answer_of(monkey):\n",
    "    if monkey == 'humn':\n",
    "        return value_humn\n",
    "    \n",
    "    statement = monkeys[monkey]\n",
    "    \n",
    "    # monkey tells number\n",
    "    number = re.match('\\d+', statement)\n",
    "    if number:\n",
    "        return int(number[0])\n",
    "    \n",
    "    # monkey tells operation\n",
    "    operation = re.match('(\\w+) ([\\+\\-\\*\\/]) (\\w+)', statement)\n",
    "    operand1 = answer_of(operation[1])\n",
    "    operand2 = answer_of(operation[3])\n",
    "    \n",
    "    match operation[2]:\n",
    "        case '+':\n",
    "            return operand1 + operand2\n",
    "        case '-':\n",
    "            return operand1 - operand2\n",
    "        case '*':\n",
    "            return operand1 * operand2\n",
    "        case '/':\n",
    "            return operand1 // operand2\n",
    "        case _:\n",
    "            assert False\n"
   ]
  },
  {
   "cell_type": "code",
   "execution_count": 5,
   "id": "897a264e",
   "metadata": {},
   "outputs": [],
   "source": [
    "def wants_humn(monkey):\n",
    "    if monkey == 'humn':\n",
    "        return True\n",
    "    \n",
    "    statement = monkeys[monkey]\n",
    "    \n",
    "    # monkey yells number\n",
    "    number = re.match('\\d+', statement)\n",
    "    if number:\n",
    "        return False\n",
    "    \n",
    "    # monkey yells operation\n",
    "    operation = re.match('(\\w+) ([\\+\\-\\*\\/]) (\\w+)', statement)\n",
    "    return wants_humn(operation[1]) or wants_humn(operation[3])\n"
   ]
  },
  {
   "cell_type": "code",
   "execution_count": 6,
   "id": "e6360dd6",
   "metadata": {},
   "outputs": [],
   "source": [
    "def bs(n, order = 'ASC'):\n",
    "    compFkt = {'ASC': lt, 'DESC': gt}\n",
    "    global value_humn\n",
    "    \n",
    "    l = 0\n",
    "    r = n\n",
    "    \n",
    "    while l < r:\n",
    "        m = math.floor((l + r) / 2)\n",
    "        value_humn = m\n",
    "        result = answer_of(monkey_wantsHumn)\n",
    "        if compFkt[order](result, targetValue):\n",
    "            l = m + 1\n",
    "        else:\n",
    "            r = m\n",
    "    if answer_of(monkey_wantsHumn) == answer_of(monkey_targetValue):\n",
    "        return value_humn\n",
    "    return None\n"
   ]
  },
  {
   "cell_type": "code",
   "execution_count": 7,
   "id": "bec1a13d",
   "metadata": {},
   "outputs": [],
   "source": [
    "m = re.search('(\\w+) \\+ (\\w+)', monkeys['root'])\n",
    "monkey_wantsHumn = m[1]\n",
    "monkey_targetValue = m[2]\n",
    "\n",
    "if not wants_humn(monkey_wantsHumn):\n",
    "    monkey_wantsHumn, monkey_targetValue = monkey_targetValue, monkey_wantsHumn\n",
    "assert wants_humn(monkey_wantsHumn)\n",
    "\n",
    "targetValue = answer_of(monkey_targetValue)\n"
   ]
  },
  {
   "cell_type": "code",
   "execution_count": 8,
   "id": "cc1b00ba",
   "metadata": {},
   "outputs": [],
   "source": [
    "n = (answer_of(monkey_targetValue) + answer_of(monkey_wantsHumn)) * 4  # TODO: use a better heuristic\n",
    "\n",
    "myNumber = bs(n)\n",
    "if not myNumber:\n",
    "    myNumber = bs(n, 'DESC')\n"
   ]
  },
  {
   "cell_type": "code",
   "execution_count": 9,
   "id": "2c02a896",
   "metadata": {},
   "outputs": [
    {
     "name": "stdout",
     "output_type": "stream",
     "text": [
      "301\n"
     ]
    }
   ],
   "source": [
    "print(myNumber)\n"
   ]
  }
 ],
 "metadata": {
  "kernelspec": {
   "display_name": "Python 3 (ipykernel)",
   "language": "python",
   "name": "python3"
  },
  "language_info": {
   "codemirror_mode": {
    "name": "ipython",
    "version": 3
   },
   "file_extension": ".py",
   "mimetype": "text/x-python",
   "name": "python",
   "nbconvert_exporter": "python",
   "pygments_lexer": "ipython3",
   "version": "3.10.8"
  }
 },
 "nbformat": 4,
 "nbformat_minor": 5
}
