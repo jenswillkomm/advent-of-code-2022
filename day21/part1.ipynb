{
 "cells": [
  {
   "cell_type": "code",
   "execution_count": 1,
   "id": "2c260ed1",
   "metadata": {},
   "outputs": [],
   "source": [
    "import re\n"
   ]
  },
  {
   "cell_type": "code",
   "execution_count": 2,
   "id": "6fcdbe59",
   "metadata": {},
   "outputs": [],
   "source": [
    "input = '''root: pppw + sjmn\n",
    "dbpl: 5\n",
    "cczh: sllz + lgvd\n",
    "zczc: 2\n",
    "ptdq: humn - dvpt\n",
    "dvpt: 3\n",
    "lfqf: 4\n",
    "humn: 5\n",
    "ljgn: 2\n",
    "sjmn: drzm * dbpl\n",
    "sllz: 4\n",
    "pppw: cczh / lfqf\n",
    "lgvd: ljgn * ptdq\n",
    "drzm: hmdt - zczc\n",
    "hmdt: 32\n",
    "'''\n",
    "\n",
    "# with open('input') as f:\n",
    "#     input = f.read()\n"
   ]
  },
  {
   "cell_type": "code",
   "execution_count": 3,
   "id": "abf477c8",
   "metadata": {},
   "outputs": [],
   "source": [
    "monkeys = dict()\n",
    "\n",
    "for line in input.splitlines():\n",
    "    m = re.search('(\\w+): (.*)', line)\n",
    "    monkeys[m[1]] = m[2]\n"
   ]
  },
  {
   "cell_type": "code",
   "execution_count": 4,
   "id": "f2735db3",
   "metadata": {},
   "outputs": [],
   "source": [
    "def answer_of(monkey):\n",
    "    statement = monkeys[monkey]\n",
    "    \n",
    "    # monkey yells number\n",
    "    number = re.match('\\d+', statement)\n",
    "    if number:\n",
    "        return int(number[0])\n",
    "    \n",
    "    # monkey yells operation\n",
    "    operation = re.match('(\\w+) ([\\+\\-\\*\\/]) (\\w+)', statement)\n",
    "    operand1 = answer_of(operation[1])\n",
    "    operand2 = answer_of(operation[3])\n",
    "    \n",
    "    match operation[2]:\n",
    "        case '+':\n",
    "            return operand1 + operand2\n",
    "        case '-':\n",
    "            return operand1 - operand2\n",
    "        case '*':\n",
    "            return operand1 * operand2\n",
    "        case '/':\n",
    "            return operand1 // operand2\n",
    "        case _:\n",
    "            assert False\n"
   ]
  },
  {
   "cell_type": "code",
   "execution_count": 5,
   "id": "fe881489",
   "metadata": {},
   "outputs": [
    {
     "name": "stdout",
     "output_type": "stream",
     "text": [
      "152\n"
     ]
    }
   ],
   "source": [
    "print(answer_of('root'))\n"
   ]
  }
 ],
 "metadata": {
  "kernelspec": {
   "display_name": "Python 3 (ipykernel)",
   "language": "python",
   "name": "python3"
  },
  "language_info": {
   "codemirror_mode": {
    "name": "ipython",
    "version": 3
   },
   "file_extension": ".py",
   "mimetype": "text/x-python",
   "name": "python",
   "nbconvert_exporter": "python",
   "pygments_lexer": "ipython3",
   "version": "3.10.8"
  }
 },
 "nbformat": 4,
 "nbformat_minor": 5
}
