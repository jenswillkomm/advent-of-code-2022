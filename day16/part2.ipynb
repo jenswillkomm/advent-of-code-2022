{
 "cells": [
  {
   "cell_type": "code",
   "execution_count": 1,
   "id": "b4679f18",
   "metadata": {},
   "outputs": [],
   "source": [
    "import re\n",
    "import numpy as np\n",
    "from collections import defaultdict\n"
   ]
  },
  {
   "cell_type": "code",
   "execution_count": 2,
   "id": "00067501",
   "metadata": {},
   "outputs": [],
   "source": [
    "input = '''Valve AA has flow rate=0; tunnels lead to valves DD, II, BB\n",
    "Valve BB has flow rate=13; tunnels lead to valves CC, AA\n",
    "Valve CC has flow rate=2; tunnels lead to valves DD, BB\n",
    "Valve DD has flow rate=20; tunnels lead to valves CC, AA, EE\n",
    "Valve EE has flow rate=3; tunnels lead to valves FF, DD\n",
    "Valve FF has flow rate=0; tunnels lead to valves EE, GG\n",
    "Valve GG has flow rate=0; tunnels lead to valves FF, HH\n",
    "Valve HH has flow rate=22; tunnel leads to valve GG\n",
    "Valve II has flow rate=0; tunnels lead to valves AA, JJ\n",
    "Valve JJ has flow rate=21; tunnel leads to valve II\n",
    "'''\n",
    "\n",
    "# with open('input') as f:\n",
    "#     input = f.read()\n"
   ]
  },
  {
   "cell_type": "code",
   "execution_count": 3,
   "id": "265e6bc2",
   "metadata": {},
   "outputs": [],
   "source": [
    "vertices = set()\n",
    "tunnels = defaultdict(lambda: -1)\n",
    "valves = dict()\n"
   ]
  },
  {
   "cell_type": "code",
   "execution_count": 4,
   "id": "d4675247",
   "metadata": {},
   "outputs": [],
   "source": [
    "for line in input.splitlines():\n",
    "    lineData = re.findall('Valve (\\w\\w) has flow rate=(\\d+); tunnel.*valves? (.*)', line)\n",
    "    valve = lineData[0][0]\n",
    "    vertices.add(valve)\n",
    "    flowRate = int(lineData[0][1])\n",
    "    valves[valve] = flowRate\n",
    "    for v in lineData[0][2].split(', '):\n",
    "        vertices.add(v)\n",
    "        tunnels[(valve, v)] = 1  # in minutes\n"
   ]
  },
  {
   "cell_type": "code",
   "execution_count": 5,
   "id": "4bec34dd",
   "metadata": {},
   "outputs": [],
   "source": [
    "i2v = sorted(list(vertices))  # index to vertex name\n",
    "v2i = dict(zip(i2v, range(len(i2v))))  # vertex name to index\n",
    "dist = np.full((len(i2v), len(i2v)), np.infty)\n",
    "\n",
    "\n",
    "# Floyd–Warshall algorithm\n",
    "edges = list(tunnels.keys())\n",
    "for edge in edges:\n",
    "    dist[v2i[edge[0]]][v2i[edge[1]]] = tunnels[edge]\n",
    "for vertex in i2v:\n",
    "    dist[v2i[vertex]][v2i[vertex]] = 0\n",
    "for k in range(0, len(i2v)):\n",
    "    for i in range(0, len(i2v)):\n",
    "        for j in range(0, len(i2v)):\n",
    "            dist[i][j] = min(\n",
    "                dist[i][j],\n",
    "                dist[i][k] + dist[k][j]\n",
    "            )\n",
    "\n",
    "# dist[i][j] is the shortest path from i to j\n"
   ]
  },
  {
   "cell_type": "code",
   "execution_count": 6,
   "id": "50477836",
   "metadata": {},
   "outputs": [],
   "source": [
    "# bitmask for fast valve set comparison\n",
    "def valve_bitmask(valves):\n",
    "    bitmask = 0\n",
    "    for v in valves:\n",
    "        bitmask |= 1 << (v2i[v] + 1)\n",
    "    return bitmask\n"
   ]
  },
  {
   "cell_type": "code",
   "execution_count": 7,
   "id": "c3c8f9b3",
   "metadata": {},
   "outputs": [],
   "source": [
    "MAX_TIME = 26\n",
    "\n",
    "relevant_valves = set([v for v in valves if valves[v] > 0])\n",
    "\n",
    "\n",
    "def dp(pos, time, pressure, visited):\n",
    "    result = [(pressure, visited)]\n",
    "    if time > MAX_TIME:\n",
    "        return result\n",
    "    \n",
    "    remaining_valves = relevant_valves - set(visited)\n",
    "    for v in remaining_valves:\n",
    "        cost = dist[pos][v2i[v]] + 1\n",
    "        benefit = valves[v] * (MAX_TIME - time - cost)\n",
    "        if benefit < 1:\n",
    "            continue\n",
    "        \n",
    "        result += dp(v2i[v], time + cost, pressure + benefit, visited + [v])\n",
    "    return result\n"
   ]
  },
  {
   "cell_type": "code",
   "execution_count": 8,
   "id": "d3e0dca0",
   "metadata": {},
   "outputs": [],
   "source": [
    "paths = dp(v2i['AA'], 0, 0, [])\n",
    "\n",
    "max_meOnly = int(max(paths, key=lambda x: x[0])[0])\n",
    "\n",
    "# optimize paths list:\n",
    "#   * Filter paths.\n",
    "#     Two individuals will be able to reduce more pressure than a single one. Thus,\n",
    "#     all relevant paths should at least release half of the pressure of part 1.\n",
    "#   * Use bitmask instead of list of strings.\n",
    "paths = [\n",
    "    (p[0], valve_bitmask(p[1]))\n",
    "    for p in paths\n",
    "    if p[0] > max_meOnly // 2\n",
    "]\n"
   ]
  },
  {
   "cell_type": "code",
   "execution_count": 9,
   "id": "565d47c5",
   "metadata": {},
   "outputs": [
    {
     "name": "stdout",
     "output_type": "stream",
     "text": [
      "1707\n"
     ]
    }
   ],
   "source": [
    "print(int(max(\n",
    "    [\n",
    "        me[0] + elephant[0]\n",
    "        for me in paths\n",
    "        for elephant in paths\n",
    "        if not me[1] & elephant[1]\n",
    "    ]\n",
    ")))\n"
   ]
  }
 ],
 "metadata": {
  "kernelspec": {
   "display_name": "Python 3 (ipykernel)",
   "language": "python",
   "name": "python3"
  },
  "language_info": {
   "codemirror_mode": {
    "name": "ipython",
    "version": 3
   },
   "file_extension": ".py",
   "mimetype": "text/x-python",
   "name": "python",
   "nbconvert_exporter": "python",
   "pygments_lexer": "ipython3",
   "version": "3.10.8"
  }
 },
 "nbformat": 4,
 "nbformat_minor": 5
}
