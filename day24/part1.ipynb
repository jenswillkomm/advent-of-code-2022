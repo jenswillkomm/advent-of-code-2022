{
 "cells": [
  {
   "cell_type": "code",
   "execution_count": 1,
   "id": "839b2bba",
   "metadata": {},
   "outputs": [],
   "source": [
    "from math import inf\n",
    "from functools import lru_cache\n"
   ]
  },
  {
   "cell_type": "code",
   "execution_count": 2,
   "id": "bb26acbb",
   "metadata": {},
   "outputs": [],
   "source": [
    "input = '''#.######\n",
    "#>>.<^<#\n",
    "#.<..<<#\n",
    "#>v.><>#\n",
    "#<^v^^>#\n",
    "######.#\n",
    "'''\n",
    "\n",
    "# with open('input') as f:\n",
    "#     input = f.read()\n"
   ]
  },
  {
   "cell_type": "code",
   "execution_count": 3,
   "id": "d46db252",
   "metadata": {},
   "outputs": [],
   "source": [
    "map = input.splitlines()\n",
    "\n",
    "pos_start = (list(map[0]).index('.'), 0)\n",
    "pos_end = (list(map[-1]).index('.'), len(map) - 1)\n",
    "\n",
    "min_x = 0\n",
    "max_x = len(map[0]) - 1\n",
    "min_y = 0\n",
    "max_y = len(map) - 1\n"
   ]
  },
  {
   "cell_type": "code",
   "execution_count": 4,
   "id": "bef6843e",
   "metadata": {},
   "outputs": [],
   "source": [
    "blizzards_position = list()\n",
    "blizzards_direction = list()\n",
    "\n",
    "for y in range(1, max_y):\n",
    "    line = list(map[y])\n",
    "    for x in range(len(line)):\n",
    "        match line[x]:\n",
    "            case '#' | '.':\n",
    "                continue\n",
    "            case '<':\n",
    "                currDir = (-1, 0)\n",
    "            case '>':\n",
    "                currDir = (1, 0)\n",
    "            case '^':\n",
    "                currDir = (0, -1)\n",
    "            case 'v':\n",
    "                currDir = (0, 1)\n",
    "            case _:\n",
    "                assert False\n",
    "        \n",
    "        blizzards_position.append((x, y))\n",
    "        blizzards_direction.append(currDir)\n",
    "\n",
    "blizzards = [blizzards_position]\n"
   ]
  },
  {
   "cell_type": "code",
   "execution_count": 5,
   "id": "f92d46dc",
   "metadata": {},
   "outputs": [],
   "source": [
    "def add_mod(a, b):\n",
    "    newPosX = ((((a[0] + b[0]) - 1) + (max_x - 1)) % (max_x - 1)) + 1\n",
    "    newPosY = ((((a[1] + b[1]) - 1) + (max_y - 1)) % (max_y - 1)) + 1\n",
    "    return newPosX, newPosY\n"
   ]
  },
  {
   "cell_type": "code",
   "execution_count": 6,
   "id": "c406ebb4",
   "metadata": {},
   "outputs": [],
   "source": [
    "while True:\n",
    "    newBlizzard = [add_mod(p, d) for p, d in zip(blizzards[-1], blizzards_direction)]\n",
    "    if newBlizzard not in blizzards:\n",
    "        blizzards.append(newBlizzard)\n",
    "    else:\n",
    "        break\n"
   ]
  },
  {
   "cell_type": "code",
   "execution_count": 7,
   "id": "ab5cd057",
   "metadata": {},
   "outputs": [],
   "source": [
    "def get_blizzards(inMinute):\n",
    "    return blizzards[inMinute % len(blizzards)]\n"
   ]
  },
  {
   "cell_type": "code",
   "execution_count": 8,
   "id": "4d0bcc83",
   "metadata": {},
   "outputs": [],
   "source": [
    "@lru_cache(None)\n",
    "def dp(time, pos):\n",
    "    if time > 500:\n",
    "        return inf\n",
    "    \n",
    "    nextTime = time + 1\n",
    "    nextBlizzards = get_blizzards(nextTime)\n",
    "    \n",
    "    nextPos = [\n",
    "        (pos[0], pos[1] - 1),  # up\n",
    "        (pos[0], pos[1] + 1),  # down\n",
    "        (pos[0] - 1, pos[1]),  # left\n",
    "        (pos[0] + 1, pos[1]),  # right\n",
    "        (pos[0], pos[1])       # wait\n",
    "    ]\n",
    "    \n",
    "    values = [inf]\n",
    "    \n",
    "    for p in nextPos:\n",
    "        if p == pos_end:\n",
    "            return nextTime\n",
    "        if p != pos_start and (p[0] < 1 or p[0] > max_x - 1 or p[1] < 1 or p[1] > max_y - 1):\n",
    "            continue\n",
    "        if p in nextBlizzards:\n",
    "            continue\n",
    "        v = dp(nextTime, p)\n",
    "        values.append(v)\n",
    "    \n",
    "    return min(values)\n"
   ]
  },
  {
   "cell_type": "code",
   "execution_count": 9,
   "id": "e6e97e8e",
   "metadata": {},
   "outputs": [
    {
     "name": "stdout",
     "output_type": "stream",
     "text": [
      "18\n"
     ]
    }
   ],
   "source": [
    "print(dp(0, pos_start))\n"
   ]
  }
 ],
 "metadata": {
  "kernelspec": {
   "display_name": "Python 3 (ipykernel)",
   "language": "python",
   "name": "python3"
  },
  "language_info": {
   "codemirror_mode": {
    "name": "ipython",
    "version": 3
   },
   "file_extension": ".py",
   "mimetype": "text/x-python",
   "name": "python",
   "nbconvert_exporter": "python",
   "pygments_lexer": "ipython3",
   "version": "3.10.8"
  }
 },
 "nbformat": 4,
 "nbformat_minor": 5
}
