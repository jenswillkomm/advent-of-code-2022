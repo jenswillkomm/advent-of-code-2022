{
 "cells": [
  {
   "cell_type": "code",
   "execution_count": 1,
   "id": "d7e270fc",
   "metadata": {},
   "outputs": [],
   "source": [
    "import numpy as np\n"
   ]
  },
  {
   "cell_type": "code",
   "execution_count": 2,
   "id": "62195bd5",
   "metadata": {},
   "outputs": [],
   "source": [
    "input = '''Sabqponm\n",
    "abcryxxl\n",
    "accszExk\n",
    "acctuvwj\n",
    "abdefghi\n",
    "'''\n",
    "\n",
    "# with open('input') as f:\n",
    "#     input = f.read()\n",
    "\n",
    "input = input.splitlines()\n"
   ]
  },
  {
   "cell_type": "code",
   "execution_count": 3,
   "id": "7d17f5f0",
   "metadata": {},
   "outputs": [],
   "source": [
    "class Node:\n",
    "    def __init__(self, pos):\n",
    "        self.position = pos\n",
    "        self.parent = None\n"
   ]
  },
  {
   "cell_type": "code",
   "execution_count": 4,
   "id": "1c7ed15a",
   "metadata": {},
   "outputs": [],
   "source": [
    "countryside = np.array([list(map(ord, list(c))) for c in input])\n",
    "\n",
    "startPos = np.where(countryside == ord('S'))\n",
    "countryside[(startPos[0][0], startPos[1][0])] = ord('a')\n",
    "endPos = np.where(countryside == ord('E'))\n",
    "countryside[(endPos[0][0], endPos[1][0])] = ord('z')\n",
    "\n",
    "startPos = (startPos[0][0], startPos[1][0])\n",
    "endPos = (endPos[0][0], endPos[1][0])\n"
   ]
  },
  {
   "cell_type": "code",
   "execution_count": 5,
   "id": "3270e57b",
   "metadata": {},
   "outputs": [],
   "source": [
    "queue = list()\n",
    "explored = set()\n",
    "\n",
    "\n",
    "def bfs(countryside, pos):\n",
    "    explored.add(pos)\n",
    "    queue.append(Node(pos))\n",
    "    \n",
    "    while len(queue) > 0:\n",
    "        currNode = queue.pop(0)\n",
    "        currPos = currNode.position\n",
    "        \n",
    "        if currPos == endPos:\n",
    "            return currNode\n",
    "        \n",
    "        # next positions\n",
    "        nextSteps = [\n",
    "            (currPos[0] - 1, currPos[1]),  # top\n",
    "            (currPos[0] + 1, currPos[1]),  # down\n",
    "            (currPos[0], currPos[1] - 1),  # left\n",
    "            (currPos[0], currPos[1] + 1)   # right\n",
    "        ]\n",
    "        \n",
    "        # filter: borders\n",
    "        nextSteps = [p for p in nextSteps\n",
    "                     if p[0] in range(countryside.shape[0]) and p[1] in range(countryside.shape[1])]\n",
    "        \n",
    "        # filter: max one level difference\n",
    "        nextSteps = [p for p in nextSteps\n",
    "                     if countryside[p] - countryside[currPos] <= 1]\n",
    "        \n",
    "        # filter: already explored\n",
    "        nextSteps = [p for p in nextSteps\n",
    "                    if p not in explored]\n",
    "        \n",
    "        for p in nextSteps:\n",
    "            explored.add(p)\n",
    "            newNode = Node(p)\n",
    "            newNode.parent = currNode\n",
    "            queue.append(newNode)\n"
   ]
  },
  {
   "cell_type": "code",
   "execution_count": 6,
   "id": "456bb64d",
   "metadata": {},
   "outputs": [],
   "source": [
    "targetNode = bfs(countryside, startPos)\n",
    "\n",
    "path = list()\n",
    "currNode = targetNode\n",
    "while currNode:\n",
    "    path.append(currNode.position)\n",
    "    currNode = currNode.parent\n"
   ]
  },
  {
   "cell_type": "code",
   "execution_count": 7,
   "id": "8282f595",
   "metadata": {},
   "outputs": [
    {
     "name": "stdout",
     "output_type": "stream",
     "text": [
      "31\n"
     ]
    }
   ],
   "source": [
    "print(len(path) - 1)\n"
   ]
  }
 ],
 "metadata": {
  "kernelspec": {
   "display_name": "Python 3 (ipykernel)",
   "language": "python",
   "name": "python3"
  },
  "language_info": {
   "codemirror_mode": {
    "name": "ipython",
    "version": 3
   },
   "file_extension": ".py",
   "mimetype": "text/x-python",
   "name": "python",
   "nbconvert_exporter": "python",
   "pygments_lexer": "ipython3",
   "version": "3.10.8"
  }
 },
 "nbformat": 4,
 "nbformat_minor": 5
}
