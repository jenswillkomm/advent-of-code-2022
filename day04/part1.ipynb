{
 "cells": [
  {
   "cell_type": "code",
   "execution_count": 1,
   "id": "03b855ed",
   "metadata": {},
   "outputs": [],
   "source": [
    "import re\n"
   ]
  },
  {
   "cell_type": "code",
   "execution_count": 2,
   "id": "ba69022f",
   "metadata": {},
   "outputs": [],
   "source": [
    "input = '''2-4,6-8\n",
    "2-3,4-5\n",
    "5-7,7-9\n",
    "2-8,3-7\n",
    "6-6,4-6\n",
    "2-6,4-8\n",
    "'''\n",
    "\n",
    "# with open('input') as f:\n",
    "#     input = f.read()\n",
    "\n",
    "input = input.split()\n"
   ]
  },
  {
   "cell_type": "code",
   "execution_count": 3,
   "id": "3941c9b8",
   "metadata": {},
   "outputs": [],
   "source": [
    "def is_overlapping(s):\n",
    "    b1, e1, b2, e2 = re.findall('(\\d+)-(\\d+),(\\d+)-(\\d+)', s)[0]\n",
    "    b1, e1, b2, e2 = (int(b1), int(e1), int(b2), int(e2))\n",
    "    return (b1 <= b2 and e1 >= e2) or (b1 >= b2 and e1 <= e2)\n"
   ]
  },
  {
   "cell_type": "code",
   "execution_count": 4,
   "id": "8fdc9862",
   "metadata": {},
   "outputs": [
    {
     "name": "stdout",
     "output_type": "stream",
     "text": [
      "2\n"
     ]
    }
   ],
   "source": [
    "print(\n",
    "    len(\n",
    "        [\n",
    "            l\n",
    "            for l in input\n",
    "            if is_overlapping(l)\n",
    "        ]\n",
    "    )\n",
    ")\n"
   ]
  }
 ],
 "metadata": {
  "kernelspec": {
   "display_name": "Python 3 (ipykernel)",
   "language": "python",
   "name": "python3"
  },
  "language_info": {
   "codemirror_mode": {
    "name": "ipython",
    "version": 3
   },
   "file_extension": ".py",
   "mimetype": "text/x-python",
   "name": "python",
   "nbconvert_exporter": "python",
   "pygments_lexer": "ipython3",
   "version": "3.10.8"
  }
 },
 "nbformat": 4,
 "nbformat_minor": 5
}
