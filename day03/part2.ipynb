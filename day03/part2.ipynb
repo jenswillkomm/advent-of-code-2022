{
 "cells": [
  {
   "cell_type": "code",
   "execution_count": 1,
   "id": "eaf7c5c0",
   "metadata": {},
   "outputs": [],
   "source": [
    "import numpy as np\n"
   ]
  },
  {
   "cell_type": "code",
   "execution_count": 2,
   "id": "2949adef",
   "metadata": {},
   "outputs": [],
   "source": [
    "input = '''vJrwpWtwJgWrhcsFMMfFFhFp\n",
    "jqHRNqRjqzjGDLGLrsFMfFZSrLrFZsSL\n",
    "PmmdzqPrVvPwwTWBwg\n",
    "wMqvLMZHhHMvwLHjbvcjnnSBnvTQFn\n",
    "ttgJtRGJQctTZtZT\n",
    "CrZsJsPPZsGzwwsLwLmpwMDw\n",
    "'''\n",
    "\n",
    "# with open('input') as f:\n",
    "#     input = f.read()\n",
    "\n",
    "input = input.splitlines()\n"
   ]
  },
  {
   "cell_type": "code",
   "execution_count": 3,
   "id": "657ca045",
   "metadata": {},
   "outputs": [
    {
     "name": "stdout",
     "output_type": "stream",
     "text": [
      "70\n"
     ]
    }
   ],
   "source": [
    "d = np.asarray(input)\n",
    "d = d.reshape(len(d) // 3, 3)\n",
    "\n",
    "print(\n",
    "    sum(\n",
    "        [\n",
    "            (ord((set(x) & set(y) & set(z)).pop()) - 38) % 58\n",
    "            for x, y, z in d\n",
    "        ]\n",
    "    )\n",
    ")\n"
   ]
  }
 ],
 "metadata": {
  "kernelspec": {
   "display_name": "Python 3 (ipykernel)",
   "language": "python",
   "name": "python3"
  },
  "language_info": {
   "codemirror_mode": {
    "name": "ipython",
    "version": 3
   },
   "file_extension": ".py",
   "mimetype": "text/x-python",
   "name": "python",
   "nbconvert_exporter": "python",
   "pygments_lexer": "ipython3",
   "version": "3.10.8"
  }
 },
 "nbformat": 4,
 "nbformat_minor": 5
}
