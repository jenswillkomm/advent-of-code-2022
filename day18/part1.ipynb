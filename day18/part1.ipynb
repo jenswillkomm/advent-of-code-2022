{
 "cells": [
  {
   "cell_type": "code",
   "execution_count": 1,
   "id": "5e60e50b",
   "metadata": {},
   "outputs": [],
   "source": [
    "input = '''2,2,2\n",
    "1,2,2\n",
    "3,2,2\n",
    "2,1,2\n",
    "2,3,2\n",
    "2,2,1\n",
    "2,2,3\n",
    "2,2,4\n",
    "2,2,6\n",
    "1,2,5\n",
    "3,2,5\n",
    "2,1,5\n",
    "2,3,5\n",
    "'''\n",
    "\n",
    "# with open('input') as f:\n",
    "#     input = f.read()\n"
   ]
  },
  {
   "cell_type": "code",
   "execution_count": 2,
   "id": "b5a2e889",
   "metadata": {},
   "outputs": [],
   "source": [
    "scan = set()\n",
    "\n",
    "for drop in input.splitlines():\n",
    "    scan.add(tuple(map(int, drop.split(','))))\n"
   ]
  },
  {
   "cell_type": "code",
   "execution_count": 3,
   "id": "0103323a",
   "metadata": {},
   "outputs": [],
   "source": [
    "def surface(scan):\n",
    "    surfaceArea = 0\n",
    "\n",
    "    for drop in scan:\n",
    "        for side in [(-1, 0, 0), (1, 0, 0), (0, -1, 0), (0, 1, 0), (0, 0, -1), (0, 0, 1)]:\n",
    "            if (drop[0] + side[0], drop[1] + side[1], drop[2] + side[2]) not in scan:\n",
    "                surfaceArea += 1\n",
    "    \n",
    "    return surfaceArea\n"
   ]
  },
  {
   "cell_type": "code",
   "execution_count": 4,
   "id": "99a9c7c3",
   "metadata": {},
   "outputs": [
    {
     "name": "stdout",
     "output_type": "stream",
     "text": [
      "64\n"
     ]
    }
   ],
   "source": [
    "print(surface(scan))\n"
   ]
  }
 ],
 "metadata": {
  "kernelspec": {
   "display_name": "Python 3 (ipykernel)",
   "language": "python",
   "name": "python3"
  },
  "language_info": {
   "codemirror_mode": {
    "name": "ipython",
    "version": 3
   },
   "file_extension": ".py",
   "mimetype": "text/x-python",
   "name": "python",
   "nbconvert_exporter": "python",
   "pygments_lexer": "ipython3",
   "version": "3.10.8"
  }
 },
 "nbformat": 4,
 "nbformat_minor": 5
}
