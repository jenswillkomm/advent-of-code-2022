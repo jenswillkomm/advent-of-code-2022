{
 "cells": [
  {
   "cell_type": "code",
   "execution_count": 1,
   "id": "5e60e50b",
   "metadata": {},
   "outputs": [],
   "source": [
    "input = '''2,2,2\n",
    "1,2,2\n",
    "3,2,2\n",
    "2,1,2\n",
    "2,3,2\n",
    "2,2,1\n",
    "2,2,3\n",
    "2,2,4\n",
    "2,2,6\n",
    "1,2,5\n",
    "3,2,5\n",
    "2,1,5\n",
    "2,3,5\n",
    "'''\n",
    "\n",
    "# with open('input') as f:\n",
    "#     input = f.read()\n"
   ]
  },
  {
   "cell_type": "code",
   "execution_count": 2,
   "id": "b5a2e889",
   "metadata": {},
   "outputs": [],
   "source": [
    "scan = set()\n",
    "\n",
    "for drop in input.splitlines():\n",
    "    scan.add(tuple(map(int, drop.split(','))))\n"
   ]
  },
  {
   "cell_type": "code",
   "execution_count": 3,
   "id": "0103323a",
   "metadata": {},
   "outputs": [],
   "source": [
    "def surface(scan):\n",
    "    surfaceArea = 0\n",
    "\n",
    "    for drop in scan:\n",
    "        for side in [(-1, 0, 0), (1, 0, 0), (0, -1, 0), (0, 1, 0), (0, 0, -1), (0, 0, 1)]:\n",
    "            if (drop[0] + side[0], drop[1] + side[1], drop[2] + side[2]) not in scan:\n",
    "                surfaceArea += 1\n",
    "    \n",
    "    return surfaceArea\n"
   ]
  },
  {
   "cell_type": "code",
   "execution_count": 4,
   "id": "99a9c7c3",
   "metadata": {},
   "outputs": [],
   "source": [
    "s = surface(scan)\n"
   ]
  },
  {
   "cell_type": "code",
   "execution_count": 5,
   "id": "07bae3e6",
   "metadata": {},
   "outputs": [],
   "source": [
    "boundaries = tuple(map(max, *scan))\n",
    "negativeScan = set([\n",
    "    (x, y, z)\n",
    "    for x in range(boundaries[0] + 2)\n",
    "    for y in range(boundaries[1] + 2)\n",
    "    for z in range(boundaries[2] + 2)\n",
    "    if (x, y, z) not in scan\n",
    "])\n"
   ]
  },
  {
   "cell_type": "code",
   "execution_count": 6,
   "id": "1708054e",
   "metadata": {},
   "outputs": [],
   "source": [
    "for start in [(0, 0, 0), (boundaries[0] + 1, 0, 0), (0, boundaries[1] + 1, 0), (0, 0, boundaries[2] + 1), (boundaries[0] + 1, boundaries[1] + 1, 0), (boundaries[0] + 1, 0, boundaries[2] + 1), (0, boundaries[1] + 1, boundaries[2] + 1), (boundaries[0] + 1, boundaries[1] + 1, boundaries[2] + 1)]:\n",
    "    if start not in negativeScan:\n",
    "        continue\n",
    "    queue = list()\n",
    "    queue.append(start)\n",
    "    negativeScan.remove(start)\n",
    "    while len(queue) > 0:\n",
    "        area = queue.pop(0)\n",
    "        for expansion in [(-1, 0, 0), (1, 0, 0), (0, -1, 0), (0, 1, 0), (0, 0, -1), (0, 0, 1)]:\n",
    "            adjacentArea = (area[0] + expansion[0], area[1] + expansion[1], area[2] + expansion[2])\n",
    "            if adjacentArea in negativeScan:\n",
    "                queue.append(adjacentArea)\n",
    "                negativeScan.remove(adjacentArea)\n"
   ]
  },
  {
   "cell_type": "code",
   "execution_count": 7,
   "id": "4c7cb3db",
   "metadata": {},
   "outputs": [],
   "source": [
    "t = surface(negativeScan)\n"
   ]
  },
  {
   "cell_type": "code",
   "execution_count": 8,
   "id": "41c47d75",
   "metadata": {},
   "outputs": [
    {
     "name": "stdout",
     "output_type": "stream",
     "text": [
      "58\n"
     ]
    }
   ],
   "source": [
    "print(s - t)\n"
   ]
  }
 ],
 "metadata": {
  "kernelspec": {
   "display_name": "Python 3 (ipykernel)",
   "language": "python",
   "name": "python3"
  },
  "language_info": {
   "codemirror_mode": {
    "name": "ipython",
    "version": 3
   },
   "file_extension": ".py",
   "mimetype": "text/x-python",
   "name": "python",
   "nbconvert_exporter": "python",
   "pygments_lexer": "ipython3",
   "version": "3.10.8"
  }
 },
 "nbformat": 4,
 "nbformat_minor": 5
}
