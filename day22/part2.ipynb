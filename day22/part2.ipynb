{
 "cells": [
  {
   "cell_type": "code",
   "execution_count": null,
   "id": "c3fd3de8",
   "metadata": {},
   "outputs": [],
   "source": [
    "import re\n"
   ]
  },
  {
   "cell_type": "code",
   "execution_count": null,
   "id": "bbb73b94",
   "metadata": {},
   "outputs": [],
   "source": [
    "input = '''        ...#\n",
    "        .#..\n",
    "        #...\n",
    "        ....\n",
    "...#.......#\n",
    "........#...\n",
    "..#....#....\n",
    "..........#.\n",
    "        ...#....\n",
    "        .....#..\n",
    "        .#......\n",
    "        ......#.\n",
    "\n",
    "10R5L5R10L4R5L5\n",
    "'''\n",
    "\n",
    "# with open('input') as f:\n",
    "#     input = f.read()\n"
   ]
  },
  {
   "cell_type": "code",
   "execution_count": null,
   "id": "ed83c74c",
   "metadata": {},
   "outputs": [],
   "source": [
    "input_board, input_path = input.split('\\n\\n')\n",
    "input_path = input_path.splitlines()\n",
    "\n",
    "board = dict()\n",
    "\n",
    "for y, line in enumerate(input_board.splitlines()):\n",
    "    for x,char in enumerate(list(line)):\n",
    "        if char in {'.', '#'}:\n",
    "            board[(x, y)] = char\n"
   ]
  },
  {
   "cell_type": "code",
   "execution_count": null,
   "id": "1922886a",
   "metadata": {},
   "outputs": [],
   "source": [
    "pos_start = sorted([(x, y) for x, y in board.keys() if y == 0])[0]\n",
    "sideLength = pos_start[0]\n",
    "\n",
    "directions = [(1, 0), (0, 1), (-1, 0), (0, -1)]  # [RIGHT, DOWN, LEFT, UP]\n",
    "directionNames = {'RIGHT': 0, 'DOWN': 1, 'LEFT': 2, 'UP': 3}\n",
    "dir_start = directionNames['RIGHT']\n"
   ]
  },
  {
   "cell_type": "code",
   "execution_count": null,
   "id": "608ae8b9",
   "metadata": {},
   "outputs": [],
   "source": [
    "def go_step(position, direction):\n",
    "    nextPos = tuple(map(sum, zip(position, directions[direction])))\n",
    "    nextDir = direction\n",
    "    \n",
    "    # TODO: build wrapping rules from input cube dynamically\n",
    "    if nextPos not in board:\n",
    "        match direction:\n",
    "            case 0:  # right\n",
    "                if nextPos[1] in range(0, 50):\n",
    "                    nextPos = (99, 149 - nextPos[1])\n",
    "                    nextDir = directionNames['LEFT']\n",
    "                elif nextPos[1] in range(50, 100):\n",
    "                    nextPos = (50 + nextPos[1], 49)\n",
    "                    nextDir = directionNames['UP']\n",
    "                elif nextPos[1] in range(100, 150):\n",
    "                    nextPos = (149, 149 - nextPos[1])\n",
    "                    nextDir = directionNames['LEFT']\n",
    "                elif nextPos[1] in range(150, 200):\n",
    "                    nextPos = (nextPos[1] - 100, 149)\n",
    "                    nextDir = directionNames['UP']\n",
    "                else:\n",
    "                    assert False\n",
    "            case 1:  # down\n",
    "                if nextPos[0] in range(0, 50):\n",
    "                    nextPos = (100 + nextPos[0], 0)\n",
    "                    nextDir = directionNames['DOWN']\n",
    "                elif nextPos[0] in range(50, 100):\n",
    "                    nextPos = (49, nextPos[0] + 100)\n",
    "                    nextDir = directionNames['LEFT']\n",
    "                elif nextPos[0] in range(100, 150):\n",
    "                    nextPos = (99, nextPos[0] - 50)\n",
    "                    nextDir = directionNames['LEFT']\n",
    "                else:\n",
    "                    assert False\n",
    "            case 2:  # left\n",
    "                if nextPos[1] in range(0, 50):\n",
    "                    nextPos = (0, 149 - nextPos[1])\n",
    "                    nextDir = directionNames['RIGHT']\n",
    "                elif nextPos[1] in range(50, 100):\n",
    "                    nextPos = (nextPos[1] - 50, 100)\n",
    "                    nextDir = directionNames['DOWN']\n",
    "                elif nextPos[1] in range(100, 150):\n",
    "                    nextPos = (50, 149 - nextPos[1])\n",
    "                    nextDir = directionNames['RIGHT']\n",
    "                elif nextPos[1] in range(150, 200):\n",
    "                    nextPos = (nextPos[1] - 100, 0)\n",
    "                    nextDir = directionNames['DOWN']\n",
    "                else:\n",
    "                    assert False\n",
    "            case 3:  # up\n",
    "                if nextPos[0] in range(0, 50):\n",
    "                    nextPos = (50, nextPos[0] + 50)\n",
    "                    nextDir = directionNames['RIGHT']\n",
    "                elif nextPos[0] in range(50, 100):\n",
    "                    nextPos = (0, nextPos[0] + 100)\n",
    "                    nextDir = directionNames['RIGHT']\n",
    "                elif nextPos[0] in range(100, 150):\n",
    "                    nextPos = (nextPos[0] - 100, 199)\n",
    "                    nextDir = directionNames['UP']\n",
    "                else:\n",
    "                    assert False\n",
    "    \n",
    "    if board[nextPos] == '.':\n",
    "        return nextPos, nextDir\n",
    "    elif board[nextPos] == '#':\n",
    "        return position, direction\n"
   ]
  },
  {
   "cell_type": "code",
   "execution_count": null,
   "id": "43aaa5b8",
   "metadata": {},
   "outputs": [],
   "source": [
    "path = input_path[0]\n",
    "currPos = pos_start\n",
    "currDir = dir_start\n",
    "\n",
    "while len(path) > 0:\n",
    "    nextNumber = re.match('(\\d+)', path)\n",
    "    if nextNumber:\n",
    "        steps = nextNumber[1]\n",
    "        path = path[len(steps):]\n",
    "        steps = int(steps)\n",
    "        for _ in range(steps):\n",
    "            currPos, currDir = go_step(currPos, currDir)\n",
    "    else:\n",
    "        directionChange = path[0]\n",
    "        path = path[1:]\n",
    "        if directionChange == 'R':\n",
    "            currDir = (currDir + 1) % len(directions)\n",
    "        elif directionChange == 'L':\n",
    "            currDir = (currDir - 1 + len(directions)) % len(directions)\n",
    "        else:\n",
    "            assert False\n"
   ]
  },
  {
   "cell_type": "code",
   "execution_count": null,
   "id": "7d04199a",
   "metadata": {},
   "outputs": [],
   "source": [
    "end_row = currPos[1] + 1\n",
    "end_col = currPos[0] + 1\n",
    "end_facing = currDir\n",
    "\n",
    "end_result = 1000 * end_row + 4 * end_col + end_facing\n"
   ]
  },
  {
   "cell_type": "code",
   "execution_count": null,
   "id": "4459e9f5",
   "metadata": {},
   "outputs": [],
   "source": [
    "print(end_result)\n"
   ]
  }
 ],
 "metadata": {
  "kernelspec": {
   "display_name": "Python 3 (ipykernel)",
   "language": "python",
   "name": "python3"
  },
  "language_info": {
   "codemirror_mode": {
    "name": "ipython",
    "version": 3
   },
   "file_extension": ".py",
   "mimetype": "text/x-python",
   "name": "python",
   "nbconvert_exporter": "python",
   "pygments_lexer": "ipython3",
   "version": "3.10.8"
  }
 },
 "nbformat": 4,
 "nbformat_minor": 5
}
