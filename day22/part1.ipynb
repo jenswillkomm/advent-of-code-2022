{
 "cells": [
  {
   "cell_type": "code",
   "execution_count": 1,
   "id": "c3fd3de8",
   "metadata": {},
   "outputs": [],
   "source": [
    "import re\n"
   ]
  },
  {
   "cell_type": "code",
   "execution_count": 2,
   "id": "bbb73b94",
   "metadata": {},
   "outputs": [],
   "source": [
    "input = '''        ...#\n",
    "        .#..\n",
    "        #...\n",
    "        ....\n",
    "...#.......#\n",
    "........#...\n",
    "..#....#....\n",
    "..........#.\n",
    "        ...#....\n",
    "        .....#..\n",
    "        .#......\n",
    "        ......#.\n",
    "\n",
    "10R5L5R10L4R5L5\n",
    "'''\n",
    "\n",
    "# with open('input') as f:\n",
    "#     input = f.read()\n"
   ]
  },
  {
   "cell_type": "code",
   "execution_count": 3,
   "id": "ed83c74c",
   "metadata": {},
   "outputs": [],
   "source": [
    "input_board, input_path = input.split('\\n\\n')\n",
    "input_path = input_path.splitlines()\n",
    "\n",
    "board = dict()\n",
    "\n",
    "for y, line in enumerate(input_board.splitlines()):\n",
    "    for x,char in enumerate(list(line)):\n",
    "        if char in {'.', '#'}:\n",
    "            board[(x, y)] = char\n"
   ]
  },
  {
   "cell_type": "code",
   "execution_count": 4,
   "id": "1922886a",
   "metadata": {},
   "outputs": [],
   "source": [
    "pos_start = sorted([(x, y) for x, y in board.keys() if y == 0])[0]\n",
    "\n",
    "directions = [(1, 0), (0, 1), (-1, 0), (0, -1)]  # [RIGHT, DOWN, LEFT, UP]\n",
    "directionNames = {'RIGHT': 0, 'DOWN': 1, 'LEFT': 2, 'UP': 3}\n",
    "dir_start = directionNames['RIGHT']\n"
   ]
  },
  {
   "cell_type": "code",
   "execution_count": 5,
   "id": "c225236d",
   "metadata": {},
   "outputs": [],
   "source": [
    "def go_step(position, direction):\n",
    "    nextPos = tuple(map(sum, zip(position, directions[direction])))\n",
    "    if nextPos in board:\n",
    "        if board[nextPos] == '.':\n",
    "            return nextPos\n",
    "        elif board[nextPos] == '#':\n",
    "            return position\n",
    "    else:\n",
    "        if direction == 0:  # right\n",
    "            return sorted([(x, y) for x, y in board if y == position[1]])[0]\n",
    "        elif direction == 1:  # down\n",
    "            return sorted([(x, y) for x, y in board if x == position[0]])[0]\n",
    "        elif direction == 2:  # left\n",
    "            return sorted([(x, y) for x, y in board if y == position[1]], reverse=True)[0]\n",
    "        elif direction == 3:  # up\n",
    "            return sorted([(x, y) for x, y in board if x == position[0]], reverse=True)[0]\n"
   ]
  },
  {
   "cell_type": "code",
   "execution_count": 6,
   "id": "43aaa5b8",
   "metadata": {},
   "outputs": [],
   "source": [
    "path = input_path[0]\n",
    "currPos = pos_start\n",
    "currDir = dir_start\n",
    "\n",
    "while len(path) > 0:\n",
    "    nextNumber = re.match('(\\d+)', path)\n",
    "    if nextNumber:\n",
    "        steps = nextNumber[1]\n",
    "        path = path[len(steps):]\n",
    "        steps = int(steps)\n",
    "        for _ in range(steps):\n",
    "            currPos = go_step(currPos, currDir)\n",
    "    else:\n",
    "        directionChange = path[0]\n",
    "        path = path[1:]\n",
    "        if directionChange == 'R':\n",
    "            currDir = (currDir + 1) % len(directions)\n",
    "        elif directionChange == 'L':\n",
    "            currDir = (currDir - 1 + len(directions)) % len(directions)\n",
    "        else:\n",
    "            assert False\n"
   ]
  },
  {
   "cell_type": "code",
   "execution_count": 7,
   "id": "7d04199a",
   "metadata": {},
   "outputs": [],
   "source": [
    "end_row = currPos[1] + 1\n",
    "end_col = currPos[0] + 1\n",
    "end_facing = currDir\n",
    "\n",
    "end_result = 1000 * end_row + 4 * end_col + end_facing\n"
   ]
  },
  {
   "cell_type": "code",
   "execution_count": 8,
   "id": "4459e9f5",
   "metadata": {},
   "outputs": [
    {
     "name": "stdout",
     "output_type": "stream",
     "text": [
      "6032\n"
     ]
    }
   ],
   "source": [
    "print(end_result)\n"
   ]
  }
 ],
 "metadata": {
  "kernelspec": {
   "display_name": "Python 3 (ipykernel)",
   "language": "python",
   "name": "python3"
  },
  "language_info": {
   "codemirror_mode": {
    "name": "ipython",
    "version": 3
   },
   "file_extension": ".py",
   "mimetype": "text/x-python",
   "name": "python",
   "nbconvert_exporter": "python",
   "pygments_lexer": "ipython3",
   "version": "3.10.8"
  }
 },
 "nbformat": 4,
 "nbformat_minor": 5
}
