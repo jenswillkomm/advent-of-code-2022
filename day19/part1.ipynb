{
 "cells": [
  {
   "cell_type": "code",
   "execution_count": 1,
   "id": "15741c18",
   "metadata": {},
   "outputs": [],
   "source": [
    "import re\n",
    "import numpy as np\n",
    "from enum import Enum\n",
    "from multiprocessing import Pool\n"
   ]
  },
  {
   "cell_type": "code",
   "execution_count": 2,
   "id": "213c3445",
   "metadata": {},
   "outputs": [],
   "source": [
    "input = '''Blueprint 1:\n",
    "  Each ore robot costs 4 ore.\n",
    "  Each clay robot costs 2 ore.\n",
    "  Each obsidian robot costs 3 ore and 14 clay.\n",
    "  Each geode robot costs 2 ore and 7 obsidian.\n",
    "\n",
    "Blueprint 2:\n",
    "  Each ore robot costs 2 ore.\n",
    "  Each clay robot costs 3 ore.\n",
    "  Each obsidian robot costs 3 ore and 8 clay.\n",
    "  Each geode robot costs 3 ore and 12 obsidian.\n",
    "'''\n",
    "input = input.replace('\\n  ', ' ').replace('\\n\\n', '\\n')\n",
    "\n",
    "# with open('input') as f:\n",
    "#     input = f.read()\n"
   ]
  },
  {
   "cell_type": "code",
   "execution_count": 3,
   "id": "cac8d444",
   "metadata": {},
   "outputs": [],
   "source": [
    "MAX_TIME = 24\n",
    "\n",
    "RESOURCE_I = Enum('Resources', ['ORE', 'CLAY', 'OBSIDIAN', 'GEODE'], start=0)\n"
   ]
  },
  {
   "cell_type": "code",
   "execution_count": 4,
   "id": "cb720eec",
   "metadata": {},
   "outputs": [],
   "source": [
    "class Blueprint:\n",
    "    id = 0\n",
    "    costs_ore = [0] * 4\n",
    "    costs_clay = [0] * 4\n",
    "    costs_obsidian = [0] * 4\n",
    "    costs_geode = [0] * 4\n"
   ]
  },
  {
   "cell_type": "code",
   "execution_count": 5,
   "id": "f31b2745",
   "metadata": {},
   "outputs": [],
   "source": [
    "blueprints = list()\n",
    "for line in input.split('\\n'):\n",
    "    if len(line) < 1:\n",
    "        continue\n",
    "\n",
    "    title, plan = line.split(': ')\n",
    "\n",
    "    m = re.match('Blueprint (\\\\d+)', title)\n",
    "    bp = Blueprint()\n",
    "    bp.id = int(m.group(1))\n",
    "\n",
    "    for robotCosts in plan.split('. '):\n",
    "        m = re.match('Each (\\\\w+) robot costs ([\\\\w ]+)', robotCosts)\n",
    "        robotName = m.group(1)\n",
    "        costStr = m.group(2).split(' and ')\n",
    "\n",
    "        costs = [0] * 4\n",
    "        for e in costStr:\n",
    "            c = re.match('(\\\\d+) (\\\\w+)', e)\n",
    "            costs[RESOURCE_I[str.upper(c.group(2))].value] = int(c.group(1))\n",
    "        assert costs != [0] * 4\n",
    "\n",
    "        match robotName:\n",
    "            case 'ore':\n",
    "                bp.costs_ore = costs\n",
    "            case 'clay':\n",
    "                bp.costs_clay = costs\n",
    "            case 'obsidian':\n",
    "                bp.costs_obsidian = costs\n",
    "            case 'geode':\n",
    "                bp.costs_geode = costs\n",
    "            case _:\n",
    "                assert False\n",
    "    blueprints.append(bp)\n"
   ]
  },
  {
   "cell_type": "code",
   "execution_count": 6,
   "id": "36f098aa",
   "metadata": {},
   "outputs": [],
   "source": [
    "def dp(time, resources, robots, blueprint):\n",
    "    if time > MAX_TIME:\n",
    "        return resources[RESOURCE_I['GEODE'].value]\n",
    "\n",
    "    bsf = -1\n",
    "    nextResources = np.add(resources, robots)\n",
    "    lastResources = np.subtract(resources, robots)\n",
    "\n",
    "    # build geode-collecting robot\n",
    "    if np.all(np.greater_equal(resources, blueprint.costs_geode)):\n",
    "        if not np.all(np.greater_equal(lastResources, blueprint.costs_geode)):\n",
    "            bsf = max(bsf, dp(time + 1, np.subtract(nextResources, blueprint.costs_geode), np.add(robots, [0, 0, 0, 1]), blueprint))\n",
    "\n",
    "    # build obsidian-collecting robot\n",
    "    if np.all(np.greater_equal(resources, blueprint.costs_obsidian)):\n",
    "        if not np.all(np.greater_equal(lastResources, blueprint.costs_obsidian)):\n",
    "            if robots[RESOURCE_I['OBSIDIAN'].value] < max([\n",
    "                blueprint.costs_ore[RESOURCE_I['OBSIDIAN'].value],\n",
    "                blueprint.costs_clay[RESOURCE_I['OBSIDIAN'].value],\n",
    "                blueprint.costs_obsidian[RESOURCE_I['OBSIDIAN'].value],\n",
    "                blueprint.costs_geode[RESOURCE_I['OBSIDIAN'].value]\n",
    "            ]):\n",
    "                bsf = max(bsf, dp(time + 1, np.subtract(nextResources, blueprint.costs_obsidian), np.add(robots, [0, 0, 1, 0]), blueprint))\n",
    "\n",
    "    # build clay-collecting robot\n",
    "    if np.all(np.greater_equal(resources, blueprint.costs_clay)):\n",
    "        if not np.all(np.greater_equal(lastResources, blueprint.costs_clay)):\n",
    "            if robots[RESOURCE_I['CLAY'].value] < max([\n",
    "                blueprint.costs_ore[RESOURCE_I['CLAY'].value],\n",
    "                blueprint.costs_clay[RESOURCE_I['CLAY'].value],\n",
    "                blueprint.costs_obsidian[RESOURCE_I['CLAY'].value],\n",
    "                blueprint.costs_geode[RESOURCE_I['CLAY'].value]\n",
    "            ]):\n",
    "                bsf = max(bsf, dp(time + 1, np.subtract(nextResources, blueprint.costs_clay), np.add(robots, [0, 1, 0, 0]), blueprint))\n",
    "\n",
    "    # build ore-collecting robot\n",
    "    if np.all(np.greater_equal(resources, blueprint.costs_ore)):\n",
    "        if not np.all(np.greater_equal(lastResources, blueprint.costs_ore)):\n",
    "            if robots[RESOURCE_I['ORE'].value] < max([\n",
    "                blueprint.costs_ore[RESOURCE_I['ORE'].value],\n",
    "                blueprint.costs_clay[RESOURCE_I['ORE'].value],\n",
    "                blueprint.costs_obsidian[RESOURCE_I['ORE'].value],\n",
    "                blueprint.costs_geode[RESOURCE_I['ORE'].value]\n",
    "            ]):\n",
    "                bsf = max(bsf, dp(time + 1, np.subtract(nextResources, blueprint.costs_ore), np.add(robots, [1, 0, 0, 0]), blueprint))\n",
    "\n",
    "    # do not build any robot\n",
    "    if np.any(np.less(resources, np.maximum.reduce([blueprint.costs_ore, blueprint.costs_clay, blueprint.costs_obsidian, blueprint.costs_geode]))):\n",
    "        remaining_time = MAX_TIME - time\n",
    "        if nextResources[RESOURCE_I['GEODE'].value] + ((remaining_time - 1) * remaining_time / 2) > bsf:\n",
    "            bsf = max(bsf, dp(time + 1, nextResources, robots, blueprint))\n",
    "\n",
    "    return bsf\n"
   ]
  },
  {
   "cell_type": "code",
   "execution_count": 7,
   "id": "4648ad04",
   "metadata": {},
   "outputs": [],
   "source": [
    "def ql(blueprint):\n",
    "    return blueprint.id * dp(1, [0, 0, 0, 0], [1, 0, 0, 0], blueprint)\n"
   ]
  },
  {
   "cell_type": "code",
   "execution_count": 8,
   "id": "21a47e5c",
   "metadata": {},
   "outputs": [],
   "source": [
    "qualityLevel = list()\n",
    "with Pool() as p:\n",
    "    qualityLevel = list(p.map(ql, blueprints))\n"
   ]
  },
  {
   "cell_type": "code",
   "execution_count": 9,
   "id": "721245f5",
   "metadata": {},
   "outputs": [
    {
     "name": "stdout",
     "output_type": "stream",
     "text": [
      "33\n"
     ]
    }
   ],
   "source": [
    "print(sum(qualityLevel))\n"
   ]
  }
 ],
 "metadata": {
  "kernelspec": {
   "display_name": "Python 3 (ipykernel)",
   "language": "python",
   "name": "python3"
  },
  "language_info": {
   "codemirror_mode": {
    "name": "ipython",
    "version": 3
   },
   "file_extension": ".py",
   "mimetype": "text/x-python",
   "name": "python",
   "nbconvert_exporter": "python",
   "pygments_lexer": "ipython3",
   "version": "3.10.8"
  }
 },
 "nbformat": 4,
 "nbformat_minor": 5
}
