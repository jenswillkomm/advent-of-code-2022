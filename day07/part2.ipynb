{
 "cells": [
  {
   "cell_type": "code",
   "execution_count": 1,
   "id": "8d36b6ab",
   "metadata": {},
   "outputs": [],
   "source": [
    "input = '''$ cd /\n",
    "$ ls\n",
    "dir a\n",
    "14848514 b.txt\n",
    "8504156 c.dat\n",
    "dir d\n",
    "$ cd a\n",
    "$ ls\n",
    "dir e\n",
    "29116 f\n",
    "2557 g\n",
    "62596 h.lst\n",
    "$ cd e\n",
    "$ ls\n",
    "584 i\n",
    "$ cd ..\n",
    "$ cd ..\n",
    "$ cd d\n",
    "$ ls\n",
    "4060174 j\n",
    "8033020 d.log\n",
    "5626152 d.ext\n",
    "7214296 k\n",
    "'''\n",
    "\n",
    "# with open('input') as f:\n",
    "#     input = f.read()\n"
   ]
  },
  {
   "cell_type": "code",
   "execution_count": 2,
   "id": "1f3f7407",
   "metadata": {},
   "outputs": [],
   "source": [
    "currPath = list()\n",
    "dirSizes = dict()\n",
    "\n",
    "for command in input.splitlines():\n",
    "#     print(currPath)\n",
    "    if command == '$ cd /':\n",
    "        currPath.clear()\n",
    "        currPath.append('root')\n",
    "    elif command == '$ cd ..':\n",
    "        currPath.pop()\n",
    "    elif command[:5] == '$ cd ':\n",
    "        _, _, dirname = command.split()\n",
    "        currPath.append(dirname)\n",
    "    elif command[0].isnumeric():\n",
    "        fileSize = int(command.split()[0])\n",
    "        \n",
    "        currPath2 = currPath.copy()\n",
    "        while len(currPath2) > 0:\n",
    "            dirPath = '/'.join(currPath2)\n",
    "            if dirPath not in dirSizes:\n",
    "                dirSizes[dirPath] = 0\n",
    "            dirSizes[dirPath] += fileSize\n",
    "            currPath2.pop()\n",
    "        \n",
    "#         print('Added file with size: '+ str(fileSize))\n",
    "#         print('Current folder size is now: '+ str(dirSizes[dirString]))\n"
   ]
  },
  {
   "cell_type": "code",
   "execution_count": 3,
   "id": "77948d16",
   "metadata": {},
   "outputs": [
    {
     "name": "stdout",
     "output_type": "stream",
     "text": [
      "24933642\n"
     ]
    }
   ],
   "source": [
    "diskSpace_used = dirSizes['root']\n",
    "diskSpace_free = 70000000 - diskSpace_used\n",
    "diskSpace_toFreeup = 30000000 - diskSpace_free\n",
    "\n",
    "print(\n",
    "    sorted([(key, dirSizes[key]) for key in dirSizes if dirSizes[key] >= diskSpace_toFreeup], key=lambda k: k[1])[0][1]\n",
    ")\n"
   ]
  }
 ],
 "metadata": {
  "kernelspec": {
   "display_name": "Python 3 (ipykernel)",
   "language": "python",
   "name": "python3"
  },
  "language_info": {
   "codemirror_mode": {
    "name": "ipython",
    "version": 3
   },
   "file_extension": ".py",
   "mimetype": "text/x-python",
   "name": "python",
   "nbconvert_exporter": "python",
   "pygments_lexer": "ipython3",
   "version": "3.10.8"
  }
 },
 "nbformat": 4,
 "nbformat_minor": 5
}
